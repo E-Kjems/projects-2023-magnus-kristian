{
 "cells": [
  {
   "attachments": {},
   "cell_type": "markdown",
   "metadata": {},
   "source": [
    "# YOUR PROJECT TITLE"
   ]
  },
  {
   "attachments": {},
   "cell_type": "markdown",
   "metadata": {},
   "source": [
    "> **Note the following:** \n",
    "> 1. This is *not* meant to be an example of an actual **model analysis project**, just an example of how to structure such a project.\n",
    "> 1. Remember the general advice on structuring and commenting your code\n",
    "> 1. The `modelproject.py` file includes a function which could be used multiple times in this notebook."
   ]
  },
  {
   "attachments": {},
   "cell_type": "markdown",
   "metadata": {},
   "source": [
    "Imports and set magics:"
   ]
  },
  {
   "attachments": {},
   "cell_type": "markdown",
   "metadata": {},
   "source": [
    "Description of project: Cournot duopoly\n",
    "\n",
    "Equations:\n",
    "Aggregate demand\n",
    "Individual profit functions (used to find aggregate supply)\n",
    "\n",
    "Analytical solution:\n",
    "Find individual response functions\n",
    "\n",
    "Grid search:\n",
    "Try different outputs and check that supply equates demand.\n",
    "\n",
    "Extensions:\n",
    "Add more periods -> Easier to collude (påkrævet)\n",
    "Vary delta -> see how collusion is harder to sustain\n",
    "Vary homogeniety of products\n",
    "Vary costs - draw from distribution (påkrævet)\n",
    "Entry/exit \n",
    "Simulate model over time - plot quantity/price for different shocks to parameters (Corona-stød?)\n",
    "\n",
    "Sjove plot (påkrævet)\n",
    "Set up as class?"
   ]
  },
  {
   "attachments": {},
   "cell_type": "markdown",
   "metadata": {},
   "source": [
    "Introduction\n",
    "\n",
    "The aim of this paper is to develop an algorithm to simulate the behavioral interaction of firms in the Cournot model and consequently to capture the essential features of the strategic interaction in the model and predict the behavior of the firms.\n",
    "\n",
    "The Cournot model describes oligopoly markets where the firms produce homogeneous products and maximize profits by engaging in strategic interaction by setting quantities simultaneously. In the model the market price is determined by the total supply, and it is assumed that each firm will not change its quantity in response to the output of others. Furthermore, the firms are considered to have complete information about the market and the actions of its competitors. Given the features of the Cournot model this paper has particular emphasis on firm behavior with various degrees of competition, different cost levels between the firms and the strategic interaction between the firms when the model runs more than one period.\n"
   ]
  },
  {
   "cell_type": "code",
   "execution_count": 60,
   "metadata": {},
   "outputs": [
    {
     "name": "stdout",
     "output_type": "stream",
     "text": [
      "The autoreload extension is already loaded. To reload it, use:\n",
      "  %reload_ext autoreload\n"
     ]
    }
   ],
   "source": [
    "import numpy as np\n",
    "import sympy as sm\n",
    "\n",
    "from scipy.stats import norm\n",
    "from numpy import array\n",
    "import matplotlib.pyplot as plt\n",
    "import plotly.graph_objs as go\n",
    "\n",
    "%matplotlib inline\n",
    "# autoreload modules when code is run\n",
    "%load_ext autoreload\n",
    "%autoreload 2\n",
    "\n",
    "# local modules\n",
    "import modelproject"
   ]
  },
  {
   "cell_type": "code",
   "execution_count": 61,
   "metadata": {},
   "outputs": [
    {
     "name": "stdout",
     "output_type": "stream",
     "text": [
      " message: The solution converged.\n",
      " success: True\n",
      "  status: 1\n",
      "     fun: [ 0.000e+00  0.000e+00 ...  0.000e+00  0.000e+00]\n",
      "       x: [ 2.066e-02  1.326e-02 ...  1.485e-02  1.950e-02]\n",
      "    nfev: 3\n",
      "    njev: 1\n",
      "    fjac: [[-2.265e-01 -1.132e-01 ... -1.132e-01 -1.132e-01]\n",
      "           [ 6.912e-01 -7.185e-01 ... -9.095e-03 -9.095e-03]\n",
      "           ...\n",
      "           [ 1.343e-02  1.343e-02 ... -9.934e-01 -1.767e-04]\n",
      "           [ 1.325e-02  1.325e-02 ...  1.325e-02 -9.935e-01]]\n",
      "       r: [ 8.832e+00  8.719e+00 ...  1.360e-02  1.007e+00]\n",
      "     qtf: [-9.177e-16  5.049e-18 ... -5.963e-18 -5.883e-18]\n",
      "\n",
      "x = [0.02065774 0.01325759 0.00395889 0.02082973 0.01040301] \n",
      "h(x) = [0. 0. 0. 0. 0.] \n",
      "sum(x) = 0.9781259658973326 \n",
      "marginal cost= [0.0012163  0.00861645 0.01791515 0.00104431 0.01147103] \n",
      "profit= [4.26742068e-04 1.75763574e-04 1.56727743e-05 4.33877594e-04\n",
      " 1.08222516e-04] \n",
      "N_firms = 75\n"
     ]
    }
   ],
   "source": [
    "sol=modelproject.mynewfun(100)"
   ]
  },
  {
   "cell_type": "code",
   "execution_count": 62,
   "metadata": {},
   "outputs": [
    {
     "name": "stdout",
     "output_type": "stream",
     "text": [
      "[0.05678787 0.06671962 0.0012163  0.00861645 0.01791515 0.00104431\n",
      " 0.01147103 0.00495983 0.00537525 0.00619019 0.03352609 0.00341235\n",
      " 0.02240993 0.00747678 0.00801759 0.00844377 0.03006674 0.0108601\n",
      " 0.00995634 0.00178609 0.02879327 0.00080628 0.00147986 0.0369306\n",
      " 0.01528669 0.00625522 0.00365652 0.00397753 0.01870872 0.01429288\n",
      " 0.00981456 0.01247537 0.02010944 0.02303685 0.0018907  0.00054944\n",
      " 0.00952525 0.00955636 0.04372496 0.00598282 0.00512506 0.00355821\n",
      " 0.12246487 0.01112515 0.01437758 0.03041426 0.00553374 0.04687036\n",
      " 0.11898259 0.00056433 0.10979436 0.01140248 0.0135581  0.03243347\n",
      " 0.01138708 0.01238249 0.0110513  0.0095327  0.01454913 0.01498746\n",
      " 0.01402363 0.01219719 0.00247347 0.00476398 0.03203713 0.00400003\n",
      " 0.00776431 0.05428856 0.0046319  0.02196171 0.01167903 0.02400523\n",
      " 0.13486055 0.01913343 0.0141436  0.0061754  0.00175862 0.02886471\n",
      " 0.16132136 0.00626008 0.01740596 0.02034611 0.0069029  0.11354112\n",
      " 0.0052414  0.0416732  0.00979942 0.01464671 0.01058949 0.00269816\n",
      " 0.01407098 0.01627593 0.00753627 0.00986872 0.0060983  0.00394759\n",
      " 0.01836034 0.00702006 0.00236963 0.02362118] [0.         0.         0.02065774 0.01325759 0.00395889 0.02082973\n",
      " 0.01040301 0.0169142  0.01649878 0.01568385 0.         0.01846168\n",
      " 0.         0.01439726 0.01385645 0.01343026 0.         0.01101393\n",
      " 0.01191769 0.02008795 0.         0.02106776 0.02039418 0.\n",
      " 0.00658734 0.01561881 0.01821751 0.0178965  0.00316532 0.00758115\n",
      " 0.01205948 0.00939866 0.0017646  0.         0.01998333 0.02132459\n",
      " 0.01234878 0.01231768 0.         0.01589122 0.01674897 0.01831582\n",
      " 0.         0.01074888 0.00749645 0.         0.01634029 0.\n",
      " 0.         0.02130971 0.         0.01047155 0.00831594 0.\n",
      " 0.01048696 0.00949154 0.01082274 0.01234133 0.0073249  0.00688657\n",
      " 0.00785041 0.00967684 0.01940056 0.01711005 0.         0.017874\n",
      " 0.01410973 0.         0.01724213 0.         0.010195   0.\n",
      " 0.         0.00274061 0.00773043 0.01569864 0.02011542 0.\n",
      " 0.         0.01561395 0.00446807 0.00152792 0.01497113 0.\n",
      " 0.01663264 0.         0.01207462 0.00722732 0.01128455 0.01917588\n",
      " 0.00780306 0.0055981  0.01433777 0.01200532 0.01577574 0.01792645\n",
      " 0.00351369 0.01485397 0.01950441 0.        ]\n"
     ]
    }
   ],
   "source": [
    "print(sol.c_vec_init,sol.x0)"
   ]
  },
  {
   "attachments": {},
   "cell_type": "markdown",
   "metadata": {},
   "source": [
    "Demand and cost"
   ]
  },
  {
   "cell_type": "code",
   "execution_count": null,
   "metadata": {},
   "outputs": [],
   "source": [
    "#Class which does not work\n",
    "\n",
    "import numpy as np\n",
    "import sympy as sm\n",
    "\n",
    "from scipy.stats import norm\n",
    "import scipy.optimize as optimize\n",
    "from numpy import array\n",
    "import matplotlib.pyplot as plt\n",
    "import plotly.graph_objs as go\n",
    "\n",
    "from types import SimpleNamespace\n",
    "\n",
    "class CournotClass:\n",
    "\n",
    "    def __init__(self,N,seed):\n",
    "\n",
    "        # a. create namespaces\n",
    "        par = self.par = SimpleNamespace()\n",
    "        sol = self.sol = SimpleNamespace()\n",
    "\n",
    "        # N      = N  # Number of variables\n",
    "        par.N_init = N\n",
    "        par.N = N\n",
    "\n",
    "        np.random.seed(seed)\n",
    "        par.c_vec = 0.01*np.random.lognormal(mean=0,sigma=1,size=N)\n",
    "        par.c_vec_init = par.c_vec.copy()\n",
    "\n",
    "        # Setting up the initial values for x\n",
    "        par.index    = np.array(range(par.N))\n",
    "        par.x0       = np.zeros(par.N)\n",
    "        par.x_nonneg = np.zeros(par.N, dtype=bool)\n",
    "        sol.alpha = np.nan\n",
    "        sol.sigma = np.nan\n",
    "\n",
    "        # Defining symbolic variables for the optimization problem\n",
    "        x = sm.symbols('x')  # Symbolic variable representing x\n",
    "        x_rest = sm.symbols('x_rest')  # Symbolic variable representing x_rest\n",
    "        c=sm.symbols('c')\n",
    "\n",
    "        # Defining the objective function\n",
    "        #penalty = 100  # choose a suitable penalty value\n",
    "        objective = (1 - x - x_rest - c) * x\n",
    "\n",
    "        self.objective_lambd=sm.lambdify(args=(x,x_rest,c),expr=objective)\n",
    "\n",
    "        # Taking the first derivative of the objective function w.r.t x\n",
    "        obj_dif = sm.diff(objective, x)\n",
    "        # Converting the symbolic expression for the derivative into a callable function\n",
    "        self.best = sm.lambdify(args=(x, x_rest,c), expr=obj_dif)\n",
    "\n",
    "        # Taking the second derivative of the objective function w.r.t x\n",
    "        best_dif = sm.diff(obj_dif, x)\n",
    "\n",
    "        # Converting the symbolic expression for the second derivative into a callable function\n",
    "        self.jac_x = sm.lambdify(args=(x, x_rest), expr=best_dif)\n",
    "\n",
    "        # Taking the second derivative of the objective function w.r.t x_rest\n",
    "        best_dif = sm.diff(obj_dif, x_rest)\n",
    "\n",
    "        # Converting the symbolic expression for the second derivative into a callable function\n",
    "        self.jac_x_rest = sm.lambdify(args=(x, x_rest), expr=best_dif)\n",
    "\n",
    "    def h(self, x, c_vec, N):\n",
    "        \n",
    "        par = self.par\n",
    "        sol = self.sol\n",
    "        N=par.N\n",
    "\n",
    "        y = np.zeros(N)\n",
    "        for i in range(N):\n",
    "            # Evaluating the first derivative of the objective function at x[i]\n",
    "            #c_rand = norm.rvs(loc=0, scale=0.001)\n",
    "            y[i] = self.best(x[i], sum(x) - x[i], par.c_vec[i])\n",
    "\n",
    "        return y\n",
    "\n",
    "    # Defining the Jacobian of the function to be optimized\n",
    "    def hp(self, x, N):\n",
    "        \n",
    "        par = self.par\n",
    "        sol = self.sol\n",
    "        N=par.N\n",
    "\n",
    "        y = np.zeros((N, N))\n",
    "        for i in range(N):\n",
    "            for j in range(N):\n",
    "                if j == i:\n",
    "                    # Evaluating the second derivative of the objective function w.r.t x[i]\n",
    "                    y[i,j] = self.jac_x(x[i], sum(x) - x[i])\n",
    "                else:\n",
    "                    # Evaluating the second derivative of the objective function w.r.t x_rest[i]\n",
    "                    y[i,j] = self.jac_x_rest(x[i], sum(x) - x[i])\n",
    "\n",
    "        return y\n",
    "\n",
    "    def lol(self,k):\n",
    "        par=self.par\n",
    "        sol=self.sol\n",
    "        return par.c_vec\n",
    "\n",
    "    def solve_model(self, seed=2000):\n",
    "        \n",
    "        par = self.par\n",
    "        sol = self.sol\n",
    "\n",
    "        while not all(par.x_nonneg):\n",
    "\n",
    "            # Solving the optimization problem using scipy.optimize.root() function\n",
    "            result = optimize.root(lambda x0: self.h(par.x0,par.c_vec,par.N), par.x0, jac=lambda x0: self.hp(par.x0,par.N))\n",
    "\n",
    "            par.x0 = result.x\n",
    "            par.x_nonneg = (par.x0 >= 0).astype(bool)\n",
    "            \n",
    "            par.c_vec = par.c_vec[par.x_nonneg]\n",
    "            par.x0    = par.x0[par.x_nonneg]\n",
    "            par.N     = np.sum(par.x_nonneg)\n",
    "            par.index = par.index[par.x_nonneg]\n",
    "\n",
    "        profit=self.objective_lambd(result.x,np.sum(result.x)-result.x,par.c_vec)\n",
    "        # Printing the results\n",
    "        print(result)\n",
    "        print('\\nx =', result.x[0:10], '\\nh(x) =', self.h(par.x0,par.c_vec,par.N)[0:10], '\\nsum(x) =', sum(result.x), '\\nmarginal cost=',par.c_vec[0:7],'\\nprofit=', profit[0:10],'\\nN_firms =',par.N)\n",
    "\n",
    "cournot=CournotClass(10,2000) ## Mærkeligt. mynewfun bestemmer antal virksomheder.\n",
    "cournot.lol(2)\n",
    "cournot.solve_model()"
   ]
  },
  {
   "cell_type": "code",
   "execution_count": 8,
   "metadata": {},
   "outputs": [
    {
     "ename": "NameError",
     "evalue": "name 'c_vec' is not defined",
     "output_type": "error",
     "traceback": [
      "\u001b[1;31m---------------------------------------------------------------------------\u001b[0m",
      "\u001b[1;31mNameError\u001b[0m                                 Traceback (most recent call last)",
      "\u001b[1;32m~\\AppData\\Local\\Temp\\ipykernel_19080\\4261714047.py\u001b[0m in \u001b[0;36m<module>\u001b[1;34m\u001b[0m\n\u001b[0;32m      1\u001b[0m \u001b[1;31m# Plotting c_vec\u001b[0m\u001b[1;33m\u001b[0m\u001b[1;33m\u001b[0m\u001b[0m\n\u001b[0;32m      2\u001b[0m \u001b[0mplt\u001b[0m\u001b[1;33m.\u001b[0m\u001b[0mfigure\u001b[0m\u001b[1;33m(\u001b[0m\u001b[0mfigsize\u001b[0m\u001b[1;33m=\u001b[0m\u001b[1;33m(\u001b[0m\u001b[1;36m8\u001b[0m\u001b[1;33m,\u001b[0m\u001b[1;36m6\u001b[0m\u001b[1;33m)\u001b[0m\u001b[1;33m)\u001b[0m\u001b[1;33m\u001b[0m\u001b[1;33m\u001b[0m\u001b[0m\n\u001b[1;32m----> 3\u001b[1;33m \u001b[0mplt\u001b[0m\u001b[1;33m.\u001b[0m\u001b[0mplot\u001b[0m\u001b[1;33m(\u001b[0m\u001b[0mc_vec\u001b[0m\u001b[1;33m,\u001b[0m \u001b[0mcolor\u001b[0m\u001b[1;33m=\u001b[0m\u001b[1;34m'blue'\u001b[0m\u001b[1;33m)\u001b[0m\u001b[1;33m\u001b[0m\u001b[1;33m\u001b[0m\u001b[0m\n\u001b[0m\u001b[0;32m      4\u001b[0m \u001b[0mplt\u001b[0m\u001b[1;33m.\u001b[0m\u001b[0mxlabel\u001b[0m\u001b[1;33m(\u001b[0m\u001b[1;34m'Firm index'\u001b[0m\u001b[1;33m)\u001b[0m\u001b[1;33m\u001b[0m\u001b[1;33m\u001b[0m\u001b[0m\n\u001b[0;32m      5\u001b[0m \u001b[0mplt\u001b[0m\u001b[1;33m.\u001b[0m\u001b[0mylabel\u001b[0m\u001b[1;33m(\u001b[0m\u001b[1;34m'Marginal cost'\u001b[0m\u001b[1;33m)\u001b[0m\u001b[1;33m\u001b[0m\u001b[1;33m\u001b[0m\u001b[0m\n",
      "\u001b[1;31mNameError\u001b[0m: name 'c_vec' is not defined"
     ]
    },
    {
     "data": {
      "text/plain": [
       "<Figure size 800x600 with 0 Axes>"
      ]
     },
     "metadata": {},
     "output_type": "display_data"
    }
   ],
   "source": [
    "# Plotting c_vec\n",
    "plt.figure(figsize=(8,6))\n",
    "plt.plot(c_vec, color='blue')\n",
    "plt.xlabel('Firm index')\n",
    "plt.ylabel('Marginal cost')\n",
    "plt.title('Marginal cost for each firm')\n",
    "\n",
    "# Plotting result.x\n",
    "plt.figure(figsize=(8,6))\n",
    "plt.plot(result.x, color='red')\n",
    "plt.xlabel('Firm index')\n",
    "plt.ylabel('Output')\n",
    "plt.title('Optimal output for each firm')\n",
    "\n",
    "# Plotting profit\n",
    "plt.figure(figsize=(8,6))\n",
    "plt.plot(profit, color='green')\n",
    "plt.xlabel('Firm index')\n",
    "plt.ylabel('Profit')\n",
    "plt.title('Profit for each firm')\n",
    "\n",
    "plt.show()\n"
   ]
  },
  {
   "cell_type": "code",
   "execution_count": 14,
   "metadata": {},
   "outputs": [
    {
     "data": {
      "image/png": "[encoded data removed]",
      "text/plain": [
       "<Figure size 640x480 with 1 Axes>"
      ]
     },
     "metadata": {},
     "output_type": "display_data"
    },
    {
     "data": {
      "image/png": "[encoded data removed]",
      "text/plain": [
       "<Figure size 640x480 with 1 Axes>"
      ]
     },
     "metadata": {},
     "output_type": "display_data"
    }
   ],
   "source": [
    "plt.plot(np.arange(len(profit)), profit)\n",
    "plt.xlabel('Firm index')\n",
    "plt.ylabel('Profit')\n",
    "plt.show()\n",
    "\n",
    "plt.hist(result.x)\n",
    "plt.xlabel('x')\n",
    "plt.ylabel('Frequency')\n",
    "plt.show()\n"
   ]
  },
  {
   "cell_type": "code",
   "execution_count": 15,
   "metadata": {},
   "outputs": [
    {
     "data": {
      "image/png": "[encoded data removed]",
      "text/plain": [
       "<Figure size 640x480 with 1 Axes>"
      ]
     },
     "metadata": {},
     "output_type": "display_data"
    }
   ],
   "source": [
    "fig = plt.figure()\n",
    "ax = fig.add_subplot(111, projection='3d')\n",
    "\n",
    "ax.scatter(c_vec_new, result.x, profit)\n",
    "\n",
    "ax.set_xlabel('c_vec')\n",
    "ax.set_ylabel('x')\n",
    "ax.set_zlabel('profit')\n",
    "\n",
    "plt.show()\n",
    "\n"
   ]
  },
  {
   "cell_type": "code",
   "execution_count": 18,
   "metadata": {},
   "outputs": [
    {
     "data": {
      "application/vnd.plotly.v1+json": {
       "config": {
        "plotlyServerURL": "https://plot.ly"
       },
       "data": [
        {
         "marker": {
          "color": [
           0.00009545012899232208,
           0.00009443335494069151,
           0.00009545013784216055,
           0.0000910407998146408,
           0.00009377419599601795,
           0.00009523654231709174,
           0.00000780426182205072,
           0.00008222421231754198,
           0.00009544624594721544,
           0.00009544971394385088,
           0.00009545009628187097,
           0.0000018104107515074602,
           0.00009545014728352556,
           0.00009545014744749191,
           0.000013379414224038367,
           0.00009536983726011485,
           0.00009527104475674263,
           0.00003214617798419533,
           0.000059773430313389696,
           0.00009364939322806862,
           0.00009542993028095842,
           0.00009545014744748897,
           0.00009544971042116761,
           0.00009116886871636534,
           0.00007834156633975324,
           0.00009545014744510042,
           0.00009545014744611919,
           0.00009508041353283075,
           0.00009243216672620645,
           0.000022016729626926115,
           0.00009545014617250356,
           0.00009542709486317787,
           3.7909441650946244e-7,
           0.00009430646228549466,
           0.00009545014072760015,
           0.00009544452123388075,
           0.00009545014126170023,
           0.00009544981548358772,
           0.0000954501466864882,
           0.00009545014744539033,
           0.00009542033495257622,
           0.00009539531080125157,
           0.00009543709700203866,
           0.00009544996257328867,
           0.0000886020945583186,
           0.00006129296066744275,
           0.00009544886423450361,
           0.000086286668452959,
           0.00008457864258223954,
           0.00009545012174171911,
           0.00007088270091733303,
           0.00009306724545840751,
           0.00009543422298107511,
           0.00009522787344455097,
           0.000012547653531439572,
           0.00009527340028433794,
           0.00009477186593271364,
           0.0000905684164361769,
           0.00009542296473730813,
           0.0000931493368088178,
           0.00009545014744749044,
           0.0000954158084728789,
           0.00009545014743865059,
           0.00009543601932832042,
           0.00009520839886254759,
           0.00009544701974630347,
           0.00009545014744749246,
           0.00009517710673231613,
           0.000057664899318559125,
           0.00009403744646943984,
           0.00009543140409934413,
           0.00007406027436280792,
           0.00009545014744748924,
           0.00009421410225051421,
           0.00009544148766820094,
           0.00009544774490780587,
           0.00009544997861022366,
           0.00009204245700015511,
           0.00008890057369057418,
           0.00009541746840628325,
           0.00009538656951845816,
           0.00009545014744749242,
           0.00007419701865927643,
           0.0000643210610751097,
           0.00009315838858061088,
           0.000017572944156842525,
           0.00008301549784989829,
           0.000013477859177391203,
           0.00007394792328383054,
           0.00009519515100040909,
           0.00009544740541432118,
           0.0000954500969930027,
           0.000024809922741194928,
           0.0000954494722031294,
           0.00008295116797313182,
           0.00009536594436351463,
           0.00009351396968748425,
           0.00009545007714900291,
           0.00009544987336549508,
           0.00009544840369564841,
           0.00006473455613869511,
           0.00009465657285271756,
           0.00009544117843496965,
           0.00009545011597480115,
           0.00009529708387448148,
           0.00009527979565447989,
           0.00009544760917157292,
           0.00008384985443440805,
           0.00009545013449610496,
           0.0000954336495203686
          ],
          "colorscale": [
           [
            0,
            "#440154"
           ],
           [
            0.1111111111111111,
            "#482878"
           ],
           [
            0.2222222222222222,
            "#3e4989"
           ],
           [
            0.3333333333333333,
            "#31688e"
           ],
           [
            0.4444444444444444,
            "#26828e"
           ],
           [
            0.5555555555555556,
            "#1f9e89"
           ],
           [
            0.6666666666666666,
            "#35b779"
           ],
           [
            0.7777777777777778,
            "#6ece58"
           ],
           [
            0.8888888888888888,
            "#b5de2b"
           ],
           [
            1,
            "#fde725"
           ]
          ],
          "opacity": 0.8
         },
         "mode": "markers",
         "type": "scatter3d",
         "x": [
          0.009769858186909163,
          0.00971768259106485,
          0.009769858639824571,
          0.009541530265876362,
          0.009683707760770719,
          0.00975892116563529,
          0.002793610893100299,
          0.009067756741197716,
          0.009769659459121796,
          0.00976983694561196,
          0.009769856512859576,
          0.001345515050642845,
          0.009769859123012887,
          0.009769859131404365,
          0.0036577881600819654,
          0.009765748166940808,
          0.009760688743973794,
          0.005669759958251437,
          0.007731327849301419,
          0.009677261659584416,
          0.009768824406291302,
          0.009769859131404176,
          0.00976983676532827,
          0.0095482390374539,
          0.008851077128787613,
          0.00976985913128193,
          0.009769859131334137,
          0.009750918599435839,
          0.009614164900094023,
          0.004692198805136428,
          0.00976985906615328,
          0.009768679279368832,
          0.0006157064369560341,
          0.009711151439736056,
          0.009769858787495004,
          0.009769571189866716,
          0.009769858814829127,
          0.00976984214220381,
          0.00976985909245787,
          0.009769859131296727,
          0.009768333274032438,
          0.009767052308718513,
          0.009769191215347934,
          0.009769849669942798,
          0.009412868561618855,
          0.007828982096507708,
          0.009769793459152399,
          0.00928906176386792,
          0.009196664753171872,
          0.00976985781583906,
          0.008419186475980178,
          0.00964713664557526,
          0.009769044118083924,
          0.009758477004356014,
          0.003542266722232726,
          0.009760809407233211,
          0.009735084279692035,
          0.009516744003921229,
          0.00976846788075294,
          0.009651390408060992,
          0.009769859131404327,
          0.009768101579778643,
          0.009769859130951823,
          0.009769136058440146,
          0.009757479124371232,
          0.009769699061194138,
          0.009769859131404423,
          0.009755875497991475,
          0.00759374079874694,
          0.009697290676752625,
          0.00976889984078752,
          0.00860582793011826,
          0.009769859131404315,
          0.009706394915235417,
          0.009769415932807586,
          0.009769736173909612,
          0.009769850490678838,
          0.009593876015466763,
          0.009428710075644995,
          0.009768186546451561,
          0.009766604810191266,
          0.009769859131404419,
          0.008613769131992705,
          0.008020041214052703,
          0.00965185933282312,
          0.004192009560680943,
          0.009111284094456312,
          0.0036712203934644127,
          0.008599297836673942,
          0.00975680024395304,
          0.009769718799142275,
          0.009769856549253816,
          0.004980956006751248,
          0.009769824573815207,
          0.009107753179194484,
          0.009765548851114757,
          0.009670262131270129,
          0.009769855533680986,
          0.009769845104477815,
          0.009769769889595277,
          0.008045778777638063,
          0.009729160953171171,
          0.009769400106197142,
          0.009769857520700859,
          0.009762022529910257,
          0.009761137006234105,
          0.009769729227136537,
          0.009156956614203404,
          0.00976985846858075,
          0.009769014767127828
         ],
         "y": [
          9.444952395097142e-10,
          0.00005217654033952888,
          4.915798777296299e-10,
          0.0002283288655279934,
          0.00008615137063361485,
          0.000010937965769020391,
          0.006976248238303996,
          0.0007021023902067778,
          1.996722824373846e-7,
          2.2185792436267067e-8,
          2.61854481162337e-9,
          0.008424344080761469,
          8.391402792319991e-12,
          5.248667029156934e-22,
          0.0061120709713224156,
          0.000004110964463516589,
          0.000009170387430705389,
          0.004100099173152967,
          0.0020385312821029,
          0.00009259747181996208,
          0.000001034725113189197,
          5.887601834193311e-17,
          2.236607600482564e-8,
          0.00022162009395052443,
          0.0009187820026167454,
          1.2234988630886483e-13,
          7.023409231015123e-14,
          0.0000189405319685504,
          0.00015569423131037404,
          0.005077660326268089,
          6.525112525306954e-11,
          0.0000011798520354876094,
          0.009154152694448452,
          0.00005870769166833046,
          3.43909430744766e-10,
          2.8794153770616765e-7,
          3.1657534234131795e-10,
          1.6989200520503766e-8,
          3.894646752296602e-11,
          1.0747741289091093e-13,
          0.0000015258573719622137,
          0.000002806822685772749,
          6.679160563089676e-7,
          9.461461510170685e-9,
          0.00035699056978551126,
          0.0019408770348967527,
          6.567225197960459e-8,
          0.0004807973675364647,
          0.0005731943782325021,
          1.3155652336592436e-9,
          0.0013506726554242498,
          0.00012272248582915644,
          8.150133205124938e-7,
          0.000011382127048436162,
          0.0062275924091716815,
          0.000009049724171236514,
          0.00003477485171239082,
          0.0002531151274831415,
          0.0000013912506514755456,
          0.00011846872334341296,
          1.1098421681193066e-16,
          0.000001757551625801115,
          4.524598129565226e-13,
          7.230729642932697e-7,
          0.000012380007033009056,
          1.600702103580868e-7,
          3.633592759179704e-18,
          0.000013983633413015918,
          0.002176118332657483,
          0.00007256845465171573,
          9.592906169540906e-7,
          0.0011640312012862022,
          1.5189656673911586e-16,
          0.00006346421616897449,
          4.431985968137862e-7,
          1.2295749468477389e-7,
          8.64072556972726e-9,
          0.00017598311593766016,
          0.00034114905575948216,
          0.000001672584952827248,
          0.0000032543212131230647,
          2.1541798854870118e-18,
          0.001156089999411729,
          0.0017498179173517303,
          0.00011799979858127329,
          0.005577849570723545,
          0.0006585750369480682,
          0.006098638737940086,
          0.0011705612947304777,
          0.000013058887451373436,
          1.403322619725344e-7,
          2.582150646354525e-9,
          0.00478890312465317,
          3.455758924273153e-8,
          0.0006621059522099886,
          0.000004310280289736824,
          0.00009959700013411872,
          3.5977234699520924e-9,
          1.4026926663286214e-8,
          8.92418091965214e-8,
          0.0017240803537663999,
          0.00004069817823325723,
          4.590252073190822e-7,
          1.610703517096616e-9,
          0.000007836601494124993,
          0.000008722125170319173,
          1.299042678492998e-7,
          0.000612902517201071,
          6.62823724737983e-10,
          8.443642765958733e-7
         ],
         "z": [
          0.00009545012899232208,
          0.00009443335494069151,
          0.00009545013784216055,
          0.0000910407998146408,
          0.00009377419599601795,
          0.00009523654231709174,
          0.00000780426182205072,
          0.00008222421231754198,
          0.00009544624594721544,
          0.00009544971394385088,
          0.00009545009628187097,
          0.0000018104107515074602,
          0.00009545014728352556,
          0.00009545014744749191,
          0.000013379414224038367,
          0.00009536983726011485,
          0.00009527104475674263,
          0.00003214617798419533,
          0.000059773430313389696,
          0.00009364939322806862,
          0.00009542993028095842,
          0.00009545014744748897,
          0.00009544971042116761,
          0.00009116886871636534,
          0.00007834156633975324,
          0.00009545014744510042,
          0.00009545014744611919,
          0.00009508041353283075,
          0.00009243216672620645,
          0.000022016729626926115,
          0.00009545014617250356,
          0.00009542709486317787,
          3.7909441650946244e-7,
          0.00009430646228549466,
          0.00009545014072760015,
          0.00009544452123388075,
          0.00009545014126170023,
          0.00009544981548358772,
          0.0000954501466864882,
          0.00009545014744539033,
          0.00009542033495257622,
          0.00009539531080125157,
          0.00009543709700203866,
          0.00009544996257328867,
          0.0000886020945583186,
          0.00006129296066744275,
          0.00009544886423450361,
          0.000086286668452959,
          0.00008457864258223954,
          0.00009545012174171911,
          0.00007088270091733303,
          0.00009306724545840751,
          0.00009543422298107511,
          0.00009522787344455097,
          0.000012547653531439572,
          0.00009527340028433794,
          0.00009477186593271364,
          0.0000905684164361769,
          0.00009542296473730813,
          0.0000931493368088178,
          0.00009545014744749044,
          0.0000954158084728789,
          0.00009545014743865059,
          0.00009543601932832042,
          0.00009520839886254759,
          0.00009544701974630347,
          0.00009545014744749246,
          0.00009517710673231613,
          0.000057664899318559125,
          0.00009403744646943984,
          0.00009543140409934413,
          0.00007406027436280792,
          0.00009545014744748924,
          0.00009421410225051421,
          0.00009544148766820094,
          0.00009544774490780587,
          0.00009544997861022366,
          0.00009204245700015511,
          0.00008890057369057418,
          0.00009541746840628325,
          0.00009538656951845816,
          0.00009545014744749242,
          0.00007419701865927643,
          0.0000643210610751097,
          0.00009315838858061088,
          0.000017572944156842525,
          0.00008301549784989829,
          0.000013477859177391203,
          0.00007394792328383054,
          0.00009519515100040909,
          0.00009544740541432118,
          0.0000954500969930027,
          0.000024809922741194928,
          0.0000954494722031294,
          0.00008295116797313182,
          0.00009536594436351463,
          0.00009351396968748425,
          0.00009545007714900291,
          0.00009544987336549508,
          0.00009544840369564841,
          0.00006473455613869511,
          0.00009465657285271756,
          0.00009544117843496965,
          0.00009545011597480115,
          0.00009529708387448148,
          0.00009527979565447989,
          0.00009544760917157292,
          0.00008384985443440805,
          0.00009545013449610496,
          0.0000954336495203686
         ]
        }
       ],
       "layout": {
        "scene": {
         "xaxis": {
          "title": {
           "text": "x"
          }
         },
         "yaxis": {
          "title": {
           "text": "c_vec"
          }
         },
         "zaxis": {
          "title": {
           "text": "profit"
          }
         }
        },
        "template": {
         "data": {
          "bar": [
           {
            "error_x": {
             "color": "#2a3f5f"
            },
            "error_y": {
             "color": "#2a3f5f"
            },
            "marker": {
             "line": {
              "color": "#E5ECF6",
              "width": 0.5
             },
             "pattern": {
              "fillmode": "overlay",
              "size": 10,
              "solidity": 0.2
             }
            },
            "type": "bar"
           }
          ],
          "barpolar": [
           {
            "marker": {
             "line": {
              "color": "#E5ECF6",
              "width": 0.5
             },
             "pattern": {
              "fillmode": "overlay",
              "size": 10,
              "solidity": 0.2
             }
            },
            "type": "barpolar"
           }
          ],
          "carpet": [
           {
            "aaxis": {
             "endlinecolor": "#2a3f5f",
             "gridcolor": "white",
             "linecolor": "white",
             "minorgridcolor": "white",
             "startlinecolor": "#2a3f5f"
            },
            "baxis": {
             "endlinecolor": "#2a3f5f",
             "gridcolor": "white",
             "linecolor": "white",
             "minorgridcolor": "white",
             "startlinecolor": "#2a3f5f"
            },
            "type": "carpet"
           }
          ],
          "choropleth": [
           {
            "colorbar": {
             "outlinewidth": 0,
             "ticks": ""
            },
            "type": "choropleth"
           }
          ],
          "contour": [
           {
            "colorbar": {
             "outlinewidth": 0,
             "ticks": ""
            },
            "colorscale": [
             [
              0,
              "#0d0887"
             ],
             [
              0.1111111111111111,
              "#46039f"
             ],
             [
              0.2222222222222222,
              "#7201a8"
             ],
             [
              0.3333333333333333,
              "#9c179e"
             ],
             [
              0.4444444444444444,
              "#bd3786"
             ],
             [
              0.5555555555555556,
              "#d8576b"
             ],
             [
              0.6666666666666666,
              "#ed7953"
             ],
             [
              0.7777777777777778,
              "#fb9f3a"
             ],
             [
              0.8888888888888888,
              "#fdca26"
             ],
             [
              1,
              "#f0f921"
             ]
            ],
            "type": "contour"
           }
          ],
          "contourcarpet": [
           {
            "colorbar": {
             "outlinewidth": 0,
             "ticks": ""
            },
            "type": "contourcarpet"
           }
          ],
          "heatmap": [
           {
            "colorbar": {
             "outlinewidth": 0,
             "ticks": ""
            },
            "colorscale": [
             [
              0,
              "#0d0887"
             ],
             [
              0.1111111111111111,
              "#46039f"
             ],
             [
              0.2222222222222222,
              "#7201a8"
             ],
             [
              0.3333333333333333,
              "#9c179e"
             ],
             [
              0.4444444444444444,
              "#bd3786"
             ],
             [
              0.5555555555555556,
              "#d8576b"
             ],
             [
              0.6666666666666666,
              "#ed7953"
             ],
             [
              0.7777777777777778,
              "#fb9f3a"
             ],
             [
              0.8888888888888888,
              "#fdca26"
             ],
             [
              1,
              "#f0f921"
             ]
            ],
            "type": "heatmap"
           }
          ],
          "heatmapgl": [
           {
            "colorbar": {
             "outlinewidth": 0,
             "ticks": ""
            },
            "colorscale": [
             [
              0,
              "#0d0887"
             ],
             [
              0.1111111111111111,
              "#46039f"
             ],
             [
              0.2222222222222222,
              "#7201a8"
             ],
             [
              0.3333333333333333,
              "#9c179e"
             ],
             [
              0.4444444444444444,
              "#bd3786"
             ],
             [
              0.5555555555555556,
              "#d8576b"
             ],
             [
              0.6666666666666666,
              "#ed7953"
             ],
             [
              0.7777777777777778,
              "#fb9f3a"
             ],
             [
              0.8888888888888888,
              "#fdca26"
             ],
             [
              1,
              "#f0f921"
             ]
            ],
            "type": "heatmapgl"
           }
          ],
          "histogram": [
           {
            "marker": {
             "pattern": {
              "fillmode": "overlay",
              "size": 10,
              "solidity": 0.2
             }
            },
            "type": "histogram"
           }
          ],
          "histogram2d": [
           {
            "colorbar": {
             "outlinewidth": 0,
             "ticks": ""
            },
            "colorscale": [
             [
              0,
              "#0d0887"
             ],
             [
              0.1111111111111111,
              "#46039f"
             ],
             [
              0.2222222222222222,
              "#7201a8"
             ],
             [
              0.3333333333333333,
              "#9c179e"
             ],
             [
              0.4444444444444444,
              "#bd3786"
             ],
             [
              0.5555555555555556,
              "#d8576b"
             ],
             [
              0.6666666666666666,
              "#ed7953"
             ],
             [
              0.7777777777777778,
              "#fb9f3a"
             ],
             [
              0.8888888888888888,
              "#fdca26"
             ],
             [
              1,
              "#f0f921"
             ]
            ],
            "type": "histogram2d"
           }
          ],
          "histogram2dcontour": [
           {
            "colorbar": {
             "outlinewidth": 0,
             "ticks": ""
            },
            "colorscale": [
             [
              0,
              "#0d0887"
             ],
             [
              0.1111111111111111,
              "#46039f"
             ],
             [
              0.2222222222222222,
              "#7201a8"
             ],
             [
              0.3333333333333333,
              "#9c179e"
             ],
             [
              0.4444444444444444,
              "#bd3786"
             ],
             [
              0.5555555555555556,
              "#d8576b"
             ],
             [
              0.6666666666666666,
              "#ed7953"
             ],
             [
              0.7777777777777778,
              "#fb9f3a"
             ],
             [
              0.8888888888888888,
              "#fdca26"
             ],
             [
              1,
              "#f0f921"
             ]
            ],
            "type": "histogram2dcontour"
           }
          ],
          "mesh3d": [
           {
            "colorbar": {
             "outlinewidth": 0,
             "ticks": ""
            },
            "type": "mesh3d"
           }
          ],
          "parcoords": [
           {
            "line": {
             "colorbar": {
              "outlinewidth": 0,
              "ticks": ""
             }
            },
            "type": "parcoords"
           }
          ],
          "pie": [
           {
            "automargin": true,
            "type": "pie"
           }
          ],
          "scatter": [
           {
            "fillpattern": {
             "fillmode": "overlay",
             "size": 10,
             "solidity": 0.2
            },
            "type": "scatter"
           }
          ],
          "scatter3d": [
           {
            "line": {
             "colorbar": {
              "outlinewidth": 0,
              "ticks": ""
             }
            },
            "marker": {
             "colorbar": {
              "outlinewidth": 0,
              "ticks": ""
             }
            },
            "type": "scatter3d"
           }
          ],
          "scattercarpet": [
           {
            "marker": {
             "colorbar": {
              "outlinewidth": 0,
              "ticks": ""
             }
            },
            "type": "scattercarpet"
           }
          ],
          "scattergeo": [
           {
            "marker": {
             "colorbar": {
              "outlinewidth": 0,
              "ticks": ""
             }
            },
            "type": "scattergeo"
           }
          ],
          "scattergl": [
           {
            "marker": {
             "colorbar": {
              "outlinewidth": 0,
              "ticks": ""
             }
            },
            "type": "scattergl"
           }
          ],
          "scattermapbox": [
           {
            "marker": {
             "colorbar": {
              "outlinewidth": 0,
              "ticks": ""
             }
            },
            "type": "scattermapbox"
           }
          ],
          "scatterpolar": [
           {
            "marker": {
             "colorbar": {
              "outlinewidth": 0,
              "ticks": ""
             }
            },
            "type": "scatterpolar"
           }
          ],
          "scatterpolargl": [
           {
            "marker": {
             "colorbar": {
              "outlinewidth": 0,
              "ticks": ""
             }
            },
            "type": "scatterpolargl"
           }
          ],
          "scatterternary": [
           {
            "marker": {
             "colorbar": {
              "outlinewidth": 0,
              "ticks": ""
             }
            },
            "type": "scatterternary"
           }
          ],
          "surface": [
           {
            "colorbar": {
             "outlinewidth": 0,
             "ticks": ""
            },
            "colorscale": [
             [
              0,
              "#0d0887"
             ],
             [
              0.1111111111111111,
              "#46039f"
             ],
             [
              0.2222222222222222,
              "#7201a8"
             ],
             [
              0.3333333333333333,
              "#9c179e"
             ],
             [
              0.4444444444444444,
              "#bd3786"
             ],
             [
              0.5555555555555556,
              "#d8576b"
             ],
             [
              0.6666666666666666,
              "#ed7953"
             ],
             [
              0.7777777777777778,
              "#fb9f3a"
             ],
             [
              0.8888888888888888,
              "#fdca26"
             ],
             [
              1,
              "#f0f921"
             ]
            ],
            "type": "surface"
           }
          ],
          "table": [
           {
            "cells": {
             "fill": {
              "color": "#EBF0F8"
             },
             "line": {
              "color": "white"
             }
            },
            "header": {
             "fill": {
              "color": "#C8D4E3"
             },
             "line": {
              "color": "white"
             }
            },
            "type": "table"
           }
          ]
         },
         "layout": {
          "annotationdefaults": {
           "arrowcolor": "#2a3f5f",
           "arrowhead": 0,
           "arrowwidth": 1
          },
          "autotypenumbers": "strict",
          "coloraxis": {
           "colorbar": {
            "outlinewidth": 0,
            "ticks": ""
           }
          },
          "colorscale": {
           "diverging": [
            [
             0,
             "#8e0152"
            ],
            [
             0.1,
             "#c51b7d"
            ],
            [
             0.2,
             "#de77ae"
            ],
            [
             0.3,
             "#f1b6da"
            ],
            [
             0.4,
             "#fde0ef"
            ],
            [
             0.5,
             "#f7f7f7"
            ],
            [
             0.6,
             "#e6f5d0"
            ],
            [
             0.7,
             "#b8e186"
            ],
            [
             0.8,
             "#7fbc41"
            ],
            [
             0.9,
             "#4d9221"
            ],
            [
             1,
             "#276419"
            ]
           ],
           "sequential": [
            [
             0,
             "#0d0887"
            ],
            [
             0.1111111111111111,
             "#46039f"
            ],
            [
             0.2222222222222222,
             "#7201a8"
            ],
            [
             0.3333333333333333,
             "#9c179e"
            ],
            [
             0.4444444444444444,
             "#bd3786"
            ],
            [
             0.5555555555555556,
             "#d8576b"
            ],
            [
             0.6666666666666666,
             "#ed7953"
            ],
            [
             0.7777777777777778,
             "#fb9f3a"
            ],
            [
             0.8888888888888888,
             "#fdca26"
            ],
            [
             1,
             "#f0f921"
            ]
           ],
           "sequentialminus": [
            [
             0,
             "#0d0887"
            ],
            [
             0.1111111111111111,
             "#46039f"
            ],
            [
             0.2222222222222222,
             "#7201a8"
            ],
            [
             0.3333333333333333,
             "#9c179e"
            ],
            [
             0.4444444444444444,
             "#bd3786"
            ],
            [
             0.5555555555555556,
             "#d8576b"
            ],
            [
             0.6666666666666666,
             "#ed7953"
            ],
            [
             0.7777777777777778,
             "#fb9f3a"
            ],
            [
             0.8888888888888888,
             "#fdca26"
            ],
            [
             1,
             "#f0f921"
            ]
           ]
          },
          "colorway": [
           "#636efa",
           "#EF553B",
           "#00cc96",
           "#ab63fa",
           "#FFA15A",
           "#19d3f3",
           "#FF6692",
           "#B6E880",
           "#FF97FF",
           "#FECB52"
          ],
          "font": {
           "color": "#2a3f5f"
          },
          "geo": {
           "bgcolor": "white",
           "lakecolor": "white",
           "landcolor": "#E5ECF6",
           "showlakes": true,
           "showland": true,
           "subunitcolor": "white"
          },
          "hoverlabel": {
           "align": "left"
          },
          "hovermode": "closest",
          "mapbox": {
           "style": "light"
          },
          "paper_bgcolor": "white",
          "plot_bgcolor": "#E5ECF6",
          "polar": {
           "angularaxis": {
            "gridcolor": "white",
            "linecolor": "white",
            "ticks": ""
           },
           "bgcolor": "#E5ECF6",
           "radialaxis": {
            "gridcolor": "white",
            "linecolor": "white",
            "ticks": ""
           }
          },
          "scene": {
           "xaxis": {
            "backgroundcolor": "#E5ECF6",
            "gridcolor": "white",
            "gridwidth": 2,
            "linecolor": "white",
            "showbackground": true,
            "ticks": "",
            "zerolinecolor": "white"
           },
           "yaxis": {
            "backgroundcolor": "#E5ECF6",
            "gridcolor": "white",
            "gridwidth": 2,
            "linecolor": "white",
            "showbackground": true,
            "ticks": "",
            "zerolinecolor": "white"
           },
           "zaxis": {
            "backgroundcolor": "#E5ECF6",
            "gridcolor": "white",
            "gridwidth": 2,
            "linecolor": "white",
            "showbackground": true,
            "ticks": "",
            "zerolinecolor": "white"
           }
          },
          "shapedefaults": {
           "line": {
            "color": "#2a3f5f"
           }
          },
          "ternary": {
           "aaxis": {
            "gridcolor": "white",
            "linecolor": "white",
            "ticks": ""
           },
           "baxis": {
            "gridcolor": "white",
            "linecolor": "white",
            "ticks": ""
           },
           "bgcolor": "#E5ECF6",
           "caxis": {
            "gridcolor": "white",
            "linecolor": "white",
            "ticks": ""
           }
          },
          "title": {
           "x": 0.05
          },
          "xaxis": {
           "automargin": true,
           "gridcolor": "white",
           "linecolor": "white",
           "ticks": "",
           "title": {
            "standoff": 15
           },
           "zerolinecolor": "white",
           "zerolinewidth": 2
          },
          "yaxis": {
           "automargin": true,
           "gridcolor": "white",
           "linecolor": "white",
           "ticks": "",
           "title": {
            "standoff": 15
           },
           "zerolinecolor": "white",
           "zerolinewidth": 2
          }
         }
        },
        "title": {
         "text": "Profit vs x and c_vec",
         "x": 0.5,
         "y": 0.9
        }
       }
      }
     },
     "metadata": {},
     "output_type": "display_data"
    }
   ],
   "source": [
    "# create 3D scatter plot with colors based on profit values\n",
    "fig = go.Figure(data=[go.Scatter3d(x=result.x, y=c_vec, z=profit,\n",
    "                                   mode='markers',\n",
    "                                   marker=dict(color=profit, colorscale='Viridis', opacity=0.8)\n",
    "                                   )])\n",
    "\n",
    "# add axis labels and title\n",
    "fig.update_layout(scene=dict(xaxis_title='x',\n",
    "                             yaxis_title='c_vec',\n",
    "                             zaxis_title='profit'),\n",
    "                  title=dict(text='Profit vs x and c_vec', x=0.5, y=0.9))\n",
    "\n",
    "fig.show()\n"
   ]
  },
  {
   "cell_type": "code",
   "execution_count": 19,
   "metadata": {},
   "outputs": [
    {
     "data": {
      "image/png": "[encoded data removed]",
      "text/plain": [
       "<Figure size 640x480 with 1 Axes>"
      ]
     },
     "metadata": {},
     "output_type": "display_data"
    }
   ],
   "source": [
    "import matplotlib.pyplot as plt\n",
    "\n",
    "# Plotting the optimized x values\n",
    "plt.scatter(range(N), result.x)\n",
    "\n",
    "# Adding axis labels and title\n",
    "plt.xlabel('Variable Index')\n",
    "plt.ylabel('Optimized x Value')\n",
    "plt.title('Optimized x Values')\n",
    "\n",
    "# Displaying the plot\n",
    "plt.show()\n"
   ]
  },
  {
   "attachments": {},
   "cell_type": "markdown",
   "metadata": {},
   "source": [
    "# Model description"
   ]
  },
  {
   "attachments": {},
   "cell_type": "markdown",
   "metadata": {},
   "source": [
    "**Write out the model in equations here.** \n",
    "\n",
    "Make sure you explain well the purpose of the model and comment so that other students who may not have seen it before can follow.  "
   ]
  },
  {
   "attachments": {},
   "cell_type": "markdown",
   "metadata": {},
   "source": [
    "## Analytical solution"
   ]
  },
  {
   "attachments": {},
   "cell_type": "markdown",
   "metadata": {},
   "source": [
    "If your model allows for an analytical solution, you should provide here.\n",
    "\n",
    "You may use Sympy for this. Then you can characterize the solution as a function of a parameter of the model.\n",
    "\n",
    "To characterize the solution, first derive a steady state equation as a function of a parameter using Sympy.solve and then turn it into a python function by Sympy.lambdify. See the lecture notes for details. "
   ]
  },
  {
   "attachments": {},
   "cell_type": "markdown",
   "metadata": {},
   "source": [
    "## Numerical solution"
   ]
  },
  {
   "attachments": {},
   "cell_type": "markdown",
   "metadata": {},
   "source": [
    "You can always solve a model numerically. \n",
    "\n",
    "Define first the set of parameters you need. \n",
    "\n",
    "Then choose one of the optimization algorithms that we have gone through in the lectures based on what you think is most fitting for your model.\n",
    "\n",
    "Are there any problems with convergence? Does the model converge for all starting values? Make a lot of testing to figure these things out. "
   ]
  },
  {
   "attachments": {},
   "cell_type": "markdown",
   "metadata": {},
   "source": [
    "# Further analysis"
   ]
  },
  {
   "attachments": {},
   "cell_type": "markdown",
   "metadata": {},
   "source": [
    "Make detailed vizualizations of how your model changes with parameter values. \n",
    "\n",
    "Try to make an extension of the model. "
   ]
  },
  {
   "attachments": {},
   "cell_type": "markdown",
   "metadata": {},
   "source": [
    "# Conclusion"
   ]
  },
  {
   "attachments": {},
   "cell_type": "markdown",
   "metadata": {},
   "source": [
    "Add concise conclusion. "
   ]
  }
 ],
 "metadata": {
  "kernelspec": {
   "display_name": "base",
   "language": "python",
   "name": "python3"
  },
  "language_info": {
   "codemirror_mode": {
    "name": "ipython",
    "version": 3
   },
   "file_extension": ".py",
   "mimetype": "text/x-python",
   "name": "python",
   "nbconvert_exporter": "python",
   "pygments_lexer": "ipython3",
   "version": "3.9.16"
  },
  "toc-autonumbering": true,
  "vscode": {
   "interpreter": {
    "hash": "47ef90cdf3004d3f859f1fb202523c65c07ba7c22eefd261b181f4744e2d0403"
   }
  }
 },
 "nbformat": 4,
 "nbformat_minor": 4
}
