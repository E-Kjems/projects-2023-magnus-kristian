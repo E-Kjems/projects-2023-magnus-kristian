{
 "cells": [
  {
   "attachments": {},
   "cell_type": "markdown",
   "metadata": {},
   "source": [
    "# YOUR PROJECT TITLE"
   ]
  },
  {
   "attachments": {},
   "cell_type": "markdown",
   "metadata": {},
   "source": [
    "> **Note the following:** \n",
    "> 1. This is *not* meant to be an example of an actual **model analysis project**, just an example of how to structure such a project.\n",
    "> 1. Remember the general advice on structuring and commenting your code\n",
    "> 1. The `modelproject.py` file includes a function which could be used multiple times in this notebook."
   ]
  },
  {
   "attachments": {},
   "cell_type": "markdown",
   "metadata": {},
   "source": [
    "Imports and set magics:"
   ]
  },
  {
   "attachments": {},
   "cell_type": "markdown",
   "metadata": {},
   "source": [
    "Description of project: Cournot duopoly\n",
    "\n",
    "Equations:\n",
    "Aggregate demand\n",
    "Individual profit functions (used to find aggregate supply)\n",
    "\n",
    "Analytical solution:\n",
    "Find individual response functions\n",
    "\n",
    "Grid search:\n",
    "Try different outputs and check that supply equates demand.\n",
    "\n",
    "Extensions:\n",
    "Add more periods -> Easier to collude (påkrævet)\n",
    "Vary delta -> see how collusion is harder to sustain\n",
    "Vary homogeniety of products\n",
    "Vary costs - draw from distribution (påkrævet)\n",
    "Entry/exit \n",
    "Simulate model over time - plot quantity/price for different shocks to parameters (Corona-stød?)\n",
    "\n",
    "Sjove plot (påkrævet)\n",
    "Set up as class?"
   ]
  },
  {
   "cell_type": "code",
   "execution_count": 5,
   "metadata": {},
   "outputs": [
    {
     "name": "stdout",
     "output_type": "stream",
     "text": [
      "The autoreload extension is already loaded. To reload it, use:\n",
      "  %reload_ext autoreload\n"
     ]
    }
   ],
   "source": [
    "import numpy as np\n",
    "import sympy as sm\n",
    "\n",
    "from scipy.stats import norm\n",
    "from scipy import optimize\n",
    "from numpy import array\n",
    "import matplotlib.pyplot as plt\n",
    "\n",
    "%matplotlib inline\n",
    "# autoreload modules when code is run\n",
    "%load_ext autoreload\n",
    "%autoreload 2\n",
    "\n",
    "# local modules\n",
    "import modelproject"
   ]
  },
  {
   "attachments": {},
   "cell_type": "markdown",
   "metadata": {},
   "source": [
    "Demand and cost"
   ]
  },
  {
   "cell_type": "code",
   "execution_count": 6,
   "metadata": {},
   "outputs": [
    {
     "name": "stdout",
     "output_type": "stream",
     "text": [
      "\n",
      "x = [0.01076561 0.0092952  0.01057852 0.00988628 0.0103897  0.0084657\n",
      " 0.01131106] , h(x) = [-0.00043449  0.00181044 -0.00138068  0.00138153 -0.0004358   0.00153986\n",
      " -0.00038314] ,sum(x) = 0.9900372348760774\n"
     ]
    }
   ],
   "source": [
    "# Importing necessary libraries\n",
    "import numpy as np\n",
    "import scipy.optimize as optimize\n",
    "import sympy as sm\n",
    "\n",
    "# Setting up the parameters for the optimization problem\n",
    "#c = 0.001  # Constant value for the objective function\n",
    "N = 100  # Number of variables\n",
    "\n",
    "# Defining symbolic variables for the optimization problem\n",
    "x = sm.symbols('x')  # Symbolic variable representing x\n",
    "x_rest = sm.symbols('x_rest')  # Symbolic variable representing x_rest\n",
    "c=sm.symbols('c')\n",
    "\n",
    "# Defining the objective function\n",
    "objective = (1 - x - x_rest - c) * x\n",
    "\n",
    "# Taking the first derivative of the objective function w.r.t x\n",
    "obj_dif = sm.diff(objective, x)\n",
    "\n",
    "# Converting the symbolic expression for the derivative into a callable function\n",
    "best = sm.lambdify(args=(x, x_rest,c), expr=obj_dif)\n",
    "\n",
    "# Taking the second derivative of the objective function w.r.t x\n",
    "best_dif = sm.diff(obj_dif, x)\n",
    "\n",
    "# Converting the symbolic expression for the second derivative into a callable function\n",
    "jac_x = sm.lambdify(args=(x, x_rest), expr=best_dif)\n",
    "\n",
    "# Taking the second derivative of the objective function w.r.t x_rest\n",
    "best_dif = sm.diff(obj_dif, x_rest)\n",
    "\n",
    "# Converting the symbolic expression for the second derivative into a callable function\n",
    "jac_x_rest = sm.lambdify(args=(x, x_rest), expr=best_dif)\n",
    "\n",
    "# Setting up the initial values for x_rest\n",
    "x_rest = np.zeros(N)\n",
    "\n",
    "# Defining the function to be optimized\n",
    "def h(x):\n",
    "    y = np.zeros(N)\n",
    "    for i in range(N):\n",
    "        # Evaluating the first derivative of the objective function at x[i]\n",
    "        c_rand = norm.rvs(loc=0, scale=0.001)\n",
    "        y[i] = best(x[i], sum(x) - x[i],c_rand)\n",
    "    return y\n",
    "\n",
    "# Defining the Jacobian of the function to be optimized\n",
    "def hp(x):\n",
    "    y = np.zeros((N, N))\n",
    "    for i in range(N):\n",
    "        for j in range(N):\n",
    "            if j == i:\n",
    "                # Evaluating the second derivative of the objective function w.r.t x[i]\n",
    "                y[i,j] = jac_x(x[i], sum(x) - x[i])\n",
    "            else:\n",
    "                # Evaluating the second derivative of the objective function w.r.t x_rest[i]\n",
    "                y[i,j] = jac_x_rest(x[i], sum(x) - x[i])\n",
    "    return y\n",
    "\n",
    "# Setting up the initial values for x\n",
    "x0 = np.array(x_rest)\n",
    "\n",
    "# Solving the optimization problem using scipy.optimize.root() function\n",
    "result = optimize.root(h, x0, jac=hp)\n",
    "\n",
    "# Printing the results\n",
    "print('\\nx =', result.x[0:7], ', h(x) =', h(result.x)[0:7], ',sum(x) =', sum(result.x))"
   ]
  },
  {
   "cell_type": "code",
   "execution_count": 29,
   "metadata": {},
   "outputs": [
    {
     "name": "stdout",
     "output_type": "stream",
     "text": [
      " message: The solution converged.\n",
      " success: True\n",
      "  status: 1\n",
      "     fun: [ 0.000e+00  0.000e+00  0.000e+00  0.000e+00  0.000e+00\n",
      "            0.000e+00  0.000e+00  0.000e+00  0.000e+00  0.000e+00]\n",
      "       x: [-1.818e-01 -1.818e-01 -1.818e-01 -1.818e-01 -1.818e-01\n",
      "           -1.818e-01 -1.818e-01 -1.818e-01 -1.818e-01 -1.818e-01]\n",
      "    nfev: 17\n",
      "    njev: 2\n",
      "    fjac: [[-5.219e-01 -3.118e-01 ... -2.499e-01 -2.435e-01]\n",
      "           [-5.334e-01  8.178e-01 ... -1.950e-02  1.936e-01]\n",
      "           ...\n",
      "           [-1.078e-02  2.800e-02 ... -8.904e-01 -1.452e-01]\n",
      "           [ 4.666e-02 -1.808e-01 ... -1.871e-01  8.686e-01]]\n",
      "       r: [ 5.241e+00  3.758e+00 ...  1.732e-01 -1.049e+00]\n",
      "     qtf: [ 6.924e-17 -3.913e-18  2.685e-18  1.500e-16  3.925e-17\n",
      "            8.606e-17 -6.377e-17 -6.398e-17 -5.467e-17 -4.364e-17]\n",
      "\n",
      "x = [-0.18181818 -0.18181818 -0.18181818 -0.18181818 -0.18181818 -0.18181818\n",
      " -0.18181818 -0.18181818 -0.18181818 -0.18181818] , h(x) = [0. 0. 0. 0. 0. 0. 0. 0. 0. 0.]\n",
      "\n",
      "x = [-0.18181818 -0.18181818 -0.18181818 -0.18181818 -0.18181818 -0.18181818\n",
      " -0.18181818] , h(x) = [0. 0. 0. 0. 0. 0. 0.] sum(x)= -1.8181818181818183\n"
     ]
    }
   ],
   "source": [
    "# Setting up the parameters for the optimization problem\n",
    "c = 3  # Constant value for the objective function\n",
    "N = 10  # Number of variables\n",
    "\n",
    "# Defining symbolic variables for the optimization problem\n",
    "x = sm.symbols('x')  # Symbolic variable representing x\n",
    "x_rest = sm.symbols('x_rest')  # Symbolic variable representing x_rest\n",
    "\n",
    "# Defining the objective function\n",
    "objective = (1 - x - x_rest - c) * x \n",
    "\n",
    "# Taking the first derivative of the objective function w.r.t x\n",
    "obj_dif = sm.diff(objective, x)\n",
    "\n",
    "# Converting the symbolic expression for the derivative into a callable function\n",
    "best = sm.lambdify(args=(x, x_rest), expr=obj_dif)\n",
    "\n",
    "# Taking the second derivative of the objective function w.r.t x\n",
    "best_dif = sm.diff(obj_dif, x)\n",
    "\n",
    "# Converting the symbolic expression for the second derivative into a callable function\n",
    "jac_x = sm.lambdify(args=(x, x_rest), expr=best_dif)\n",
    "\n",
    "# Taking the second derivative of the objective function w.r.t x_rest\n",
    "best_dif = sm.diff(obj_dif, x_rest)\n",
    "\n",
    "# Converting the symbolic expression for the second derivative into a callable function\n",
    "jac_x_rest = sm.lambdify(args=(x, x_rest), expr=best_dif)\n",
    "\n",
    "x_rest = np.zeros(N)\n",
    "\n",
    "def h(x):\n",
    "    y = np.zeros(N)\n",
    "    for i in range(N):  \n",
    "        y[i] = best(x[i],sum(x)-x[i])\n",
    "    return y\n",
    "\n",
    "def hp(x):\n",
    "    y = np.zeros((N, N))\n",
    "    for i in range(N):\n",
    "        for j in range(N):\n",
    "            if j == i:\n",
    "                y[i,j] = jac_x(x[i], sum(x)-x[i])\n",
    "            else:\n",
    "                y[i,j] = jac_x_rest(x[i], sum(x)-x[i])\n",
    "    return y\n",
    "\n",
    "x0 = np.zeros(N)\n",
    "bounds = optimize.Bounds(np.zeros(N), np.ones(N))\n",
    "\n",
    "result = optimize.root(h, x0, jac=hp)\n",
    "\n",
    "print(result)\n",
    "print('\\nx =', result.x, ', h(x) =', h(result.x))\n",
    "# Printing the results\n",
    "print('\\nx =', result.x[0:7], ', h(x) =', h(result.x)[0:7], 'sum(x)=', sum(result.x))"
   ]
  },
  {
   "attachments": {},
   "cell_type": "markdown",
   "metadata": {},
   "source": [
    "# Model description"
   ]
  },
  {
   "attachments": {},
   "cell_type": "markdown",
   "metadata": {},
   "source": [
    "**Write out the model in equations here.** \n",
    "\n",
    "Make sure you explain well the purpose of the model and comment so that other students who may not have seen it before can follow.  "
   ]
  },
  {
   "attachments": {},
   "cell_type": "markdown",
   "metadata": {},
   "source": [
    "## Analytical solution"
   ]
  },
  {
   "attachments": {},
   "cell_type": "markdown",
   "metadata": {},
   "source": [
    "If your model allows for an analytical solution, you should provide here.\n",
    "\n",
    "You may use Sympy for this. Then you can characterize the solution as a function of a parameter of the model.\n",
    "\n",
    "To characterize the solution, first derive a steady state equation as a function of a parameter using Sympy.solve and then turn it into a python function by Sympy.lambdify. See the lecture notes for details. "
   ]
  },
  {
   "attachments": {},
   "cell_type": "markdown",
   "metadata": {},
   "source": [
    "## Numerical solution"
   ]
  },
  {
   "attachments": {},
   "cell_type": "markdown",
   "metadata": {},
   "source": [
    "You can always solve a model numerically. \n",
    "\n",
    "Define first the set of parameters you need. \n",
    "\n",
    "Then choose one of the optimization algorithms that we have gone through in the lectures based on what you think is most fitting for your model.\n",
    "\n",
    "Are there any problems with convergence? Does the model converge for all starting values? Make a lot of testing to figure these things out. "
   ]
  },
  {
   "attachments": {},
   "cell_type": "markdown",
   "metadata": {},
   "source": [
    "# Further analysis"
   ]
  },
  {
   "attachments": {},
   "cell_type": "markdown",
   "metadata": {},
   "source": [
    "Make detailed vizualizations of how your model changes with parameter values. \n",
    "\n",
    "Try to make an extension of the model. "
   ]
  },
  {
   "attachments": {},
   "cell_type": "markdown",
   "metadata": {},
   "source": [
    "# Conclusion"
   ]
  },
  {
   "attachments": {},
   "cell_type": "markdown",
   "metadata": {},
   "source": [
    "Add concise conclusion. "
   ]
  }
 ],
 "metadata": {
  "kernelspec": {
   "display_name": "base",
   "language": "python",
   "name": "python3"
  },
  "language_info": {
   "codemirror_mode": {
    "name": "ipython",
    "version": 3
   },
   "file_extension": ".py",
   "mimetype": "text/x-python",
   "name": "python",
   "nbconvert_exporter": "python",
   "pygments_lexer": "ipython3",
   "version": "3.9.16"
  },
  "toc-autonumbering": true,
  "vscode": {
   "interpreter": {
    "hash": "47ef90cdf3004d3f859f1fb202523c65c07ba7c22eefd261b181f4744e2d0403"
   }
  }
 },
 "nbformat": 4,
 "nbformat_minor": 4
}
