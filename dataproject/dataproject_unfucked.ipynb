{
 "cells": [
  {
   "attachments": {},
   "cell_type": "markdown",
   "metadata": {},
   "source": [
    "# GDP, GROWTH and World Development Indicators"
   ]
  },
  {
   "cell_type": "markdown",
   "metadata": {},
   "source": [
    "The aim of this study is to explore the relationship between a country's governance and two important socioeconomic indicators - income inequality and economic growth. To achieve this, we have utilized data from the World Bank, which includes information on GINI, GDP, and governance indicators.\n",
    "\n",
    "Specifically, we have obtained GINI and GDP data from the World Bank and stored it in a CSV file and accessed governance indactors from an API provided by the world bank. The governance indicators developed by the world bank, provides a set of aggregate and individual governance indicators for over 200 countries and territories, covering six dimensions of governance, namely Voice and Accountability, Political Stability and Absence of Violence/Terrorism, Government Effectiveness, Regulatory Quality, Rule of Law, and Control of Corruption.\n",
    "\n",
    "Thus, by analyzing the data obtained from the World bank, we seek to investigate how the quality of a country's governance influences its level of income inequality and economic growth and hereby shed light on the importance of governance in the shaphing of a country's socioeconomic outcomes. \n"
   ]
  },
  {
   "cell_type": "code",
   "execution_count": 20,
   "metadata": {},
   "outputs": [
    {
     "name": "stdout",
     "output_type": "stream",
     "text": [
      "The autoreload extension is already loaded. To reload it, use:\n",
      "  %reload_ext autoreload\n"
     ]
    }
   ],
   "source": [
    "#Imports and set magics:\n",
    "import pandas as pd\n",
    "import numpy as np\n",
    "import matplotlib.pyplot as plt\n",
    "import ipywidgets as widgets\n",
    "from pandas_datareader import wb\n",
    "import statsmodels.api as sm \n",
    "from sklearn import datasets\n",
    "import matplotlib.cbook as cbook\n",
    "from IPython.display import display\n",
    "from ipywidgets import interact\n",
    "import ipywidgets as widgets\n",
    "from pandas_datareader import wb\n",
    "import seaborn as sns\n",
    "from scipy.stats import linregress\n",
    "from scipy import signal\n",
    "\n",
    "# autoreload modules when code is run\n",
    "%load_ext autoreload\n",
    "%autoreload 2\n",
    "\n",
    "# user written modules\n",
    "import dataproject_unfucked as dataproject"
   ]
  },
  {
   "attachments": {},
   "cell_type": "markdown",
   "metadata": {},
   "source": [
    "# Read and clean data\n",
    "The World Bank data for GINI and GDP is accessed through an API for different countries in the period 1990-2017. The API is embedded in a function called my_wb_downloader which is designed to download and clean World Bank data. The function takes four arguments, herof:\n",
    "\n",
    "- 'in_country' which is a string specifying the countries for which data will be downloaded\n",
    "\n",
    "- 'varlist_as_dict' containing the variable names to be downloaded\n",
    "\n",
    "- 'start_year' which is the starting year of the data to be downloaded \n",
    "\n",
    "- 'end_year' with is the end year of the data to be downloaded. \n"
   ]
  },
  {
   "cell_type": "code",
   "execution_count": 2,
   "metadata": {},
   "outputs": [
    {
     "data": {
      "text/html": [
       "<div>\n",
       "<style scoped>\n",
       "    .dataframe tbody tr th:only-of-type {\n",
       "        vertical-align: middle;\n",
       "    }\n",
       "\n",
       "    .dataframe tbody tr th {\n",
       "        vertical-align: top;\n",
       "    }\n",
       "\n",
       "    .dataframe thead th {\n",
       "        text-align: right;\n",
       "    }\n",
       "</style>\n",
       "<table border=\"1\" class=\"dataframe\">\n",
       "  <thead>\n",
       "    <tr style=\"text-align: right;\">\n",
       "      <th></th>\n",
       "      <th>country</th>\n",
       "      <th>year</th>\n",
       "      <th>GINI</th>\n",
       "      <th>GDP</th>\n",
       "      <th>GDP_growth</th>\n",
       "    </tr>\n",
       "  </thead>\n",
       "  <tbody>\n",
       "    <tr>\n",
       "      <th>7178</th>\n",
       "      <td>Uruguay</td>\n",
       "      <td>2007</td>\n",
       "      <td>46.4</td>\n",
       "      <td>11255.698984</td>\n",
       "      <td>6.337656</td>\n",
       "    </tr>\n",
       "    <tr>\n",
       "      <th>6969</th>\n",
       "      <td>Turkmenistan</td>\n",
       "      <td>1992</td>\n",
       "      <td>NaN</td>\n",
       "      <td>2715.932040</td>\n",
       "      <td>-17.231044</td>\n",
       "    </tr>\n",
       "    <tr>\n",
       "      <th>2342</th>\n",
       "      <td>Cameroon</td>\n",
       "      <td>1999</td>\n",
       "      <td>NaN</td>\n",
       "      <td>1124.900473</td>\n",
       "      <td>1.778363</td>\n",
       "    </tr>\n",
       "    <tr>\n",
       "      <th>4355</th>\n",
       "      <td>Kuwait</td>\n",
       "      <td>2002</td>\n",
       "      <td>NaN</td>\n",
       "      <td>30886.369515</td>\n",
       "      <td>0.212209</td>\n",
       "    </tr>\n",
       "    <tr>\n",
       "      <th>3525</th>\n",
       "      <td>Greece</td>\n",
       "      <td>1992</td>\n",
       "      <td>NaN</td>\n",
       "      <td>15805.662924</td>\n",
       "      <td>-0.066299</td>\n",
       "    </tr>\n",
       "  </tbody>\n",
       "</table>\n",
       "</div>"
      ],
      "text/plain": [
       "           country  year  GINI           GDP  GDP_growth\n",
       "7178       Uruguay  2007  46.4  11255.698984    6.337656\n",
       "6969  Turkmenistan  1992   NaN   2715.932040  -17.231044\n",
       "2342      Cameroon  1999   NaN   1124.900473    1.778363\n",
       "4355        Kuwait  2002   NaN  30886.369515    0.212209\n",
       "3525        Greece  1992   NaN  15805.662924   -0.066299"
      ]
     },
     "execution_count": 2,
     "metadata": {},
     "output_type": "execute_result"
    }
   ],
   "source": [
    "# List of variables to rename\n",
    "wb_variables_with_new_names = {'SI.POV.GINI'   :'GINI',\n",
    "                                'NY.GDP.PCAP.KD':'GDP',\n",
    "                               'NY.GDP.PCAP.KD.ZG':'GDP_growth'}\n",
    "# Download and clean data\n",
    "wb1 = dataproject.my_wb_downloader('all', wb_variables_with_new_names, 1990, 2017)\n",
    "\n",
    "# Print data\n",
    "wb1.sample(5)"
   ]
  },
  {
   "cell_type": "markdown",
   "metadata": {},
   "source": [
    "The World Governance Indicators could not be accessed through an API. Thus, these indicators were downloaded into a CSV file. This is evident from the code provided below:"
   ]
  },
  {
   "cell_type": "code",
   "execution_count": 24,
   "metadata": {},
   "outputs": [
    {
     "name": "stdout",
     "output_type": "stream",
     "text": [
      "0 Now rename Series Control of Corruption: Estimate = COC\n",
      "1 Now rename Series Government Effectiveness: Estimate = GOV\n",
      "2 Now rename Series Political Stability and Absence of Violence/Terrorism: Estimate = RSA\n",
      "3 Now rename Series Regulatory Quality: Estimate = REQ\n",
      "4 Now rename Series Rule of Law: Estimate = ROL\n",
      "5 Now rename Series Voice and Accountability: Estimate = VOA\n"
     ]
    }
   ],
   "source": [
    "frame= dataproject.WGI_DataFrame(\"WB WGI Levels.csv\")"
   ]
  },
  {
   "attachments": {},
   "cell_type": "markdown",
   "metadata": {},
   "source": [
    "Both datasets contain the variables year and country, allowing for a merge to be peformed between the two datasets on this basis. Subsequently, we transform the merged data to a long format rendering it possible to regress GINI, GDP and the governance indicators on each other. "
   ]
  },
  {
   "cell_type": "code",
   "execution_count": 25,
   "metadata": {},
   "outputs": [],
   "source": [
    "final=dataproject.merge(wb1,frame)"
   ]
  },
  {
   "attachments": {},
   "cell_type": "markdown",
   "metadata": {},
   "source": [
    "# Descriptive statistics"
   ]
  },
  {
   "attachments": {},
   "cell_type": "markdown",
   "metadata": {},
   "source": [
    "We observe that we have 6624 observations of GDP, 1611 observations of GINI and 4619 observations of each WGI.\n",
    "\n",
    "The World Governance Indicators (WGI) variables in the World bank data set are practically already normalized. However we still normalize them by mean and standard deviation to ensure valid enterpritation. From table 4-15 below it can be seen that the World Governance Indicators are stable over time as their mean is very close to 0 and they have a standard deviation equal to 1. This has the consequence that we can only use them to analyse the rank of the different countries, not for analyzing trends over time."
   ]
  },
  {
   "cell_type": "code",
   "execution_count": 26,
   "metadata": {},
   "outputs": [
    {
     "name": "stdout",
     "output_type": "stream",
     "text": [
      "N, Mean, Std. across all years\n"
     ]
    },
    {
     "data": {
      "text/html": [
       "<div>\n",
       "<style scoped>\n",
       "    .dataframe tbody tr th:only-of-type {\n",
       "        vertical-align: middle;\n",
       "    }\n",
       "\n",
       "    .dataframe tbody tr th {\n",
       "        vertical-align: top;\n",
       "    }\n",
       "\n",
       "    .dataframe thead th {\n",
       "        text-align: right;\n",
       "    }\n",
       "</style>\n",
       "<table border=\"1\" class=\"dataframe\">\n",
       "  <thead>\n",
       "    <tr style=\"text-align: right;\">\n",
       "      <th></th>\n",
       "      <th>GDP</th>\n",
       "      <th>GINI</th>\n",
       "      <th>COC</th>\n",
       "      <th>GOV</th>\n",
       "      <th>RSA</th>\n",
       "      <th>REQ</th>\n",
       "      <th>ROL</th>\n",
       "      <th>VOA</th>\n",
       "    </tr>\n",
       "  </thead>\n",
       "  <tbody>\n",
       "    <tr>\n",
       "      <th>count</th>\n",
       "      <td>6624.000000</td>\n",
       "      <td>1577.000000</td>\n",
       "      <td>4619.000000</td>\n",
       "      <td>4619.000000</td>\n",
       "      <td>4619.000000</td>\n",
       "      <td>4619.000000</td>\n",
       "      <td>4619.000000</td>\n",
       "      <td>4619.000000</td>\n",
       "    </tr>\n",
       "    <tr>\n",
       "      <th>mean</th>\n",
       "      <td>11852.048243</td>\n",
       "      <td>38.268992</td>\n",
       "      <td>-0.010643</td>\n",
       "      <td>-0.008899</td>\n",
       "      <td>-0.028062</td>\n",
       "      <td>-0.007569</td>\n",
       "      <td>-0.022902</td>\n",
       "      <td>-0.024310</td>\n",
       "    </tr>\n",
       "    <tr>\n",
       "      <th>std</th>\n",
       "      <td>17624.031024</td>\n",
       "      <td>9.040012</td>\n",
       "      <td>0.999923</td>\n",
       "      <td>0.998163</td>\n",
       "      <td>0.996367</td>\n",
       "      <td>0.998880</td>\n",
       "      <td>1.003089</td>\n",
       "      <td>0.997422</td>\n",
       "    </tr>\n",
       "  </tbody>\n",
       "</table>\n",
       "</div>"
      ],
      "text/plain": [
       "                GDP         GINI          COC          GOV          RSA  \\\n",
       "count   6624.000000  1577.000000  4619.000000  4619.000000  4619.000000   \n",
       "mean   11852.048243    38.268992    -0.010643    -0.008899    -0.028062   \n",
       "std    17624.031024     9.040012     0.999923     0.998163     0.996367   \n",
       "\n",
       "               REQ          ROL          VOA  \n",
       "count  4619.000000  4619.000000  4619.000000  \n",
       "mean     -0.007569    -0.022902    -0.024310  \n",
       "std       0.998880     1.003089     0.997422  "
      ]
     },
     "metadata": {},
     "output_type": "display_data"
    },
    {
     "name": "stdout",
     "output_type": "stream",
     "text": [
      "GDP\n"
     ]
    },
    {
     "data": {
      "text/html": [
       "<div>\n",
       "<style scoped>\n",
       "    .dataframe tbody tr th:only-of-type {\n",
       "        vertical-align: middle;\n",
       "    }\n",
       "\n",
       "    .dataframe tbody tr th {\n",
       "        vertical-align: top;\n",
       "    }\n",
       "\n",
       "    .dataframe thead th {\n",
       "        text-align: right;\n",
       "    }\n",
       "</style>\n",
       "<table border=\"1\" class=\"dataframe\">\n",
       "  <thead>\n",
       "    <tr style=\"text-align: right;\">\n",
       "      <th></th>\n",
       "      <th>count</th>\n",
       "      <th>mean</th>\n",
       "      <th>std</th>\n",
       "    </tr>\n",
       "    <tr>\n",
       "      <th>year</th>\n",
       "      <th></th>\n",
       "      <th></th>\n",
       "      <th></th>\n",
       "    </tr>\n",
       "  </thead>\n",
       "  <tbody>\n",
       "    <tr>\n",
       "      <th>2002</th>\n",
       "      <td>229</td>\n",
       "      <td>11242.877165</td>\n",
       "      <td>16976.466283</td>\n",
       "    </tr>\n",
       "    <tr>\n",
       "      <th>2007</th>\n",
       "      <td>246</td>\n",
       "      <td>13321.879873</td>\n",
       "      <td>19591.879133</td>\n",
       "    </tr>\n",
       "    <tr>\n",
       "      <th>2012</th>\n",
       "      <td>251</td>\n",
       "      <td>13596.819953</td>\n",
       "      <td>18853.108183</td>\n",
       "    </tr>\n",
       "    <tr>\n",
       "      <th>2017</th>\n",
       "      <td>248</td>\n",
       "      <td>13899.362356</td>\n",
       "      <td>18753.806262</td>\n",
       "    </tr>\n",
       "  </tbody>\n",
       "</table>\n",
       "</div>"
      ],
      "text/plain": [
       "      count          mean           std\n",
       "year                                   \n",
       "2002    229  11242.877165  16976.466283\n",
       "2007    246  13321.879873  19591.879133\n",
       "2012    251  13596.819953  18853.108183\n",
       "2017    248  13899.362356  18753.806262"
      ]
     },
     "metadata": {},
     "output_type": "display_data"
    },
    {
     "name": "stdout",
     "output_type": "stream",
     "text": [
      "GINI\n"
     ]
    },
    {
     "data": {
      "text/html": [
       "<div>\n",
       "<style scoped>\n",
       "    .dataframe tbody tr th:only-of-type {\n",
       "        vertical-align: middle;\n",
       "    }\n",
       "\n",
       "    .dataframe tbody tr th {\n",
       "        vertical-align: top;\n",
       "    }\n",
       "\n",
       "    .dataframe thead th {\n",
       "        text-align: right;\n",
       "    }\n",
       "</style>\n",
       "<table border=\"1\" class=\"dataframe\">\n",
       "  <thead>\n",
       "    <tr style=\"text-align: right;\">\n",
       "      <th></th>\n",
       "      <th>count</th>\n",
       "      <th>mean</th>\n",
       "      <th>std</th>\n",
       "    </tr>\n",
       "    <tr>\n",
       "      <th>year</th>\n",
       "      <th></th>\n",
       "      <th></th>\n",
       "      <th></th>\n",
       "    </tr>\n",
       "  </thead>\n",
       "  <tbody>\n",
       "    <tr>\n",
       "      <th>2002</th>\n",
       "      <td>54</td>\n",
       "      <td>41.307407</td>\n",
       "      <td>9.622965</td>\n",
       "    </tr>\n",
       "    <tr>\n",
       "      <th>2007</th>\n",
       "      <td>70</td>\n",
       "      <td>36.481429</td>\n",
       "      <td>8.103055</td>\n",
       "    </tr>\n",
       "    <tr>\n",
       "      <th>2012</th>\n",
       "      <td>85</td>\n",
       "      <td>36.310588</td>\n",
       "      <td>7.231891</td>\n",
       "    </tr>\n",
       "    <tr>\n",
       "      <th>2017</th>\n",
       "      <td>76</td>\n",
       "      <td>35.507895</td>\n",
       "      <td>6.994164</td>\n",
       "    </tr>\n",
       "  </tbody>\n",
       "</table>\n",
       "</div>"
      ],
      "text/plain": [
       "      count       mean       std\n",
       "year                            \n",
       "2002     54  41.307407  9.622965\n",
       "2007     70  36.481429  8.103055\n",
       "2012     85  36.310588  7.231891\n",
       "2017     76  35.507895  6.994164"
      ]
     },
     "metadata": {},
     "output_type": "display_data"
    },
    {
     "name": "stdout",
     "output_type": "stream",
     "text": [
      "COC\n"
     ]
    },
    {
     "data": {
      "text/html": [
       "<div>\n",
       "<style scoped>\n",
       "    .dataframe tbody tr th:only-of-type {\n",
       "        vertical-align: middle;\n",
       "    }\n",
       "\n",
       "    .dataframe tbody tr th {\n",
       "        vertical-align: top;\n",
       "    }\n",
       "\n",
       "    .dataframe thead th {\n",
       "        text-align: right;\n",
       "    }\n",
       "</style>\n",
       "<table border=\"1\" class=\"dataframe\">\n",
       "  <thead>\n",
       "    <tr style=\"text-align: right;\">\n",
       "      <th></th>\n",
       "      <th>count</th>\n",
       "      <th>mean</th>\n",
       "      <th>std</th>\n",
       "    </tr>\n",
       "    <tr>\n",
       "      <th>year</th>\n",
       "      <th></th>\n",
       "      <th></th>\n",
       "      <th></th>\n",
       "    </tr>\n",
       "  </thead>\n",
       "  <tbody>\n",
       "    <tr>\n",
       "      <th>2002</th>\n",
       "      <td>186</td>\n",
       "      <td>-0.003314</td>\n",
       "      <td>1.010104</td>\n",
       "    </tr>\n",
       "    <tr>\n",
       "      <th>2007</th>\n",
       "      <td>205</td>\n",
       "      <td>-0.001488</td>\n",
       "      <td>1.000923</td>\n",
       "    </tr>\n",
       "    <tr>\n",
       "      <th>2012</th>\n",
       "      <td>210</td>\n",
       "      <td>0.003180</td>\n",
       "      <td>1.004181</td>\n",
       "    </tr>\n",
       "    <tr>\n",
       "      <th>2017</th>\n",
       "      <td>202</td>\n",
       "      <td>-0.039934</td>\n",
       "      <td>0.990901</td>\n",
       "    </tr>\n",
       "  </tbody>\n",
       "</table>\n",
       "</div>"
      ],
      "text/plain": [
       "      count      mean       std\n",
       "year                           \n",
       "2002    186 -0.003314  1.010104\n",
       "2007    205 -0.001488  1.000923\n",
       "2012    210  0.003180  1.004181\n",
       "2017    202 -0.039934  0.990901"
      ]
     },
     "metadata": {},
     "output_type": "display_data"
    },
    {
     "name": "stdout",
     "output_type": "stream",
     "text": [
      "GOV\n"
     ]
    },
    {
     "data": {
      "text/html": [
       "<div>\n",
       "<style scoped>\n",
       "    .dataframe tbody tr th:only-of-type {\n",
       "        vertical-align: middle;\n",
       "    }\n",
       "\n",
       "    .dataframe tbody tr th {\n",
       "        vertical-align: top;\n",
       "    }\n",
       "\n",
       "    .dataframe thead th {\n",
       "        text-align: right;\n",
       "    }\n",
       "</style>\n",
       "<table border=\"1\" class=\"dataframe\">\n",
       "  <thead>\n",
       "    <tr style=\"text-align: right;\">\n",
       "      <th></th>\n",
       "      <th>count</th>\n",
       "      <th>mean</th>\n",
       "      <th>std</th>\n",
       "    </tr>\n",
       "    <tr>\n",
       "      <th>year</th>\n",
       "      <th></th>\n",
       "      <th></th>\n",
       "      <th></th>\n",
       "    </tr>\n",
       "  </thead>\n",
       "  <tbody>\n",
       "    <tr>\n",
       "      <th>2002</th>\n",
       "      <td>186</td>\n",
       "      <td>-6.809671e-10</td>\n",
       "      <td>1.000000</td>\n",
       "    </tr>\n",
       "    <tr>\n",
       "      <th>2007</th>\n",
       "      <td>205</td>\n",
       "      <td>-2.534813e-03</td>\n",
       "      <td>1.003514</td>\n",
       "    </tr>\n",
       "    <tr>\n",
       "      <th>2012</th>\n",
       "      <td>210</td>\n",
       "      <td>9.515541e-03</td>\n",
       "      <td>0.999963</td>\n",
       "    </tr>\n",
       "    <tr>\n",
       "      <th>2017</th>\n",
       "      <td>202</td>\n",
       "      <td>-3.019827e-02</td>\n",
       "      <td>1.001690</td>\n",
       "    </tr>\n",
       "  </tbody>\n",
       "</table>\n",
       "</div>"
      ],
      "text/plain": [
       "      count          mean       std\n",
       "year                               \n",
       "2002    186 -6.809671e-10  1.000000\n",
       "2007    205 -2.534813e-03  1.003514\n",
       "2012    210  9.515541e-03  0.999963\n",
       "2017    202 -3.019827e-02  1.001690"
      ]
     },
     "metadata": {},
     "output_type": "display_data"
    },
    {
     "name": "stdout",
     "output_type": "stream",
     "text": [
      "RSA\n"
     ]
    },
    {
     "data": {
      "text/html": [
       "<div>\n",
       "<style scoped>\n",
       "    .dataframe tbody tr th:only-of-type {\n",
       "        vertical-align: middle;\n",
       "    }\n",
       "\n",
       "    .dataframe tbody tr th {\n",
       "        vertical-align: top;\n",
       "    }\n",
       "\n",
       "    .dataframe thead th {\n",
       "        text-align: right;\n",
       "    }\n",
       "</style>\n",
       "<table border=\"1\" class=\"dataframe\">\n",
       "  <thead>\n",
       "    <tr style=\"text-align: right;\">\n",
       "      <th></th>\n",
       "      <th>count</th>\n",
       "      <th>mean</th>\n",
       "      <th>std</th>\n",
       "    </tr>\n",
       "    <tr>\n",
       "      <th>year</th>\n",
       "      <th></th>\n",
       "      <th></th>\n",
       "      <th></th>\n",
       "    </tr>\n",
       "  </thead>\n",
       "  <tbody>\n",
       "    <tr>\n",
       "      <th>2002</th>\n",
       "      <td>186</td>\n",
       "      <td>-0.007805</td>\n",
       "      <td>1.005875</td>\n",
       "    </tr>\n",
       "    <tr>\n",
       "      <th>2007</th>\n",
       "      <td>205</td>\n",
       "      <td>-0.015685</td>\n",
       "      <td>0.998778</td>\n",
       "    </tr>\n",
       "    <tr>\n",
       "      <th>2012</th>\n",
       "      <td>210</td>\n",
       "      <td>-0.009879</td>\n",
       "      <td>0.999587</td>\n",
       "    </tr>\n",
       "    <tr>\n",
       "      <th>2017</th>\n",
       "      <td>202</td>\n",
       "      <td>-0.045241</td>\n",
       "      <td>0.995372</td>\n",
       "    </tr>\n",
       "  </tbody>\n",
       "</table>\n",
       "</div>"
      ],
      "text/plain": [
       "      count      mean       std\n",
       "year                           \n",
       "2002    186 -0.007805  1.005875\n",
       "2007    205 -0.015685  0.998778\n",
       "2012    210 -0.009879  0.999587\n",
       "2017    202 -0.045241  0.995372"
      ]
     },
     "metadata": {},
     "output_type": "display_data"
    },
    {
     "name": "stdout",
     "output_type": "stream",
     "text": [
      "REQ\n"
     ]
    },
    {
     "data": {
      "text/html": [
       "<div>\n",
       "<style scoped>\n",
       "    .dataframe tbody tr th:only-of-type {\n",
       "        vertical-align: middle;\n",
       "    }\n",
       "\n",
       "    .dataframe tbody tr th {\n",
       "        vertical-align: top;\n",
       "    }\n",
       "\n",
       "    .dataframe thead th {\n",
       "        text-align: right;\n",
       "    }\n",
       "</style>\n",
       "<table border=\"1\" class=\"dataframe\">\n",
       "  <thead>\n",
       "    <tr style=\"text-align: right;\">\n",
       "      <th></th>\n",
       "      <th>count</th>\n",
       "      <th>mean</th>\n",
       "      <th>std</th>\n",
       "    </tr>\n",
       "    <tr>\n",
       "      <th>year</th>\n",
       "      <th></th>\n",
       "      <th></th>\n",
       "      <th></th>\n",
       "    </tr>\n",
       "  </thead>\n",
       "  <tbody>\n",
       "    <tr>\n",
       "      <th>2002</th>\n",
       "      <td>186</td>\n",
       "      <td>-2.803982e-09</td>\n",
       "      <td>1.000000</td>\n",
       "    </tr>\n",
       "    <tr>\n",
       "      <th>2007</th>\n",
       "      <td>205</td>\n",
       "      <td>-8.804664e-04</td>\n",
       "      <td>1.004836</td>\n",
       "    </tr>\n",
       "    <tr>\n",
       "      <th>2012</th>\n",
       "      <td>210</td>\n",
       "      <td>9.753901e-03</td>\n",
       "      <td>0.999653</td>\n",
       "    </tr>\n",
       "    <tr>\n",
       "      <th>2017</th>\n",
       "      <td>202</td>\n",
       "      <td>-2.368051e-02</td>\n",
       "      <td>1.004438</td>\n",
       "    </tr>\n",
       "  </tbody>\n",
       "</table>\n",
       "</div>"
      ],
      "text/plain": [
       "      count          mean       std\n",
       "year                               \n",
       "2002    186 -2.803982e-09  1.000000\n",
       "2007    205 -8.804664e-04  1.004836\n",
       "2012    210  9.753901e-03  0.999653\n",
       "2017    202 -2.368051e-02  1.004438"
      ]
     },
     "metadata": {},
     "output_type": "display_data"
    },
    {
     "name": "stdout",
     "output_type": "stream",
     "text": [
      "ROL\n"
     ]
    },
    {
     "data": {
      "text/html": [
       "<div>\n",
       "<style scoped>\n",
       "    .dataframe tbody tr th:only-of-type {\n",
       "        vertical-align: middle;\n",
       "    }\n",
       "\n",
       "    .dataframe tbody tr th {\n",
       "        vertical-align: top;\n",
       "    }\n",
       "\n",
       "    .dataframe thead th {\n",
       "        text-align: right;\n",
       "    }\n",
       "</style>\n",
       "<table border=\"1\" class=\"dataframe\">\n",
       "  <thead>\n",
       "    <tr style=\"text-align: right;\">\n",
       "      <th></th>\n",
       "      <th>count</th>\n",
       "      <th>mean</th>\n",
       "      <th>std</th>\n",
       "    </tr>\n",
       "    <tr>\n",
       "      <th>year</th>\n",
       "      <th></th>\n",
       "      <th></th>\n",
       "      <th></th>\n",
       "    </tr>\n",
       "  </thead>\n",
       "  <tbody>\n",
       "    <tr>\n",
       "      <th>2002</th>\n",
       "      <td>186</td>\n",
       "      <td>-0.060509</td>\n",
       "      <td>1.016282</td>\n",
       "    </tr>\n",
       "    <tr>\n",
       "      <th>2007</th>\n",
       "      <td>205</td>\n",
       "      <td>-0.011584</td>\n",
       "      <td>1.004498</td>\n",
       "    </tr>\n",
       "    <tr>\n",
       "      <th>2012</th>\n",
       "      <td>210</td>\n",
       "      <td>-0.000605</td>\n",
       "      <td>1.001863</td>\n",
       "    </tr>\n",
       "    <tr>\n",
       "      <th>2017</th>\n",
       "      <td>202</td>\n",
       "      <td>-0.029992</td>\n",
       "      <td>1.000092</td>\n",
       "    </tr>\n",
       "  </tbody>\n",
       "</table>\n",
       "</div>"
      ],
      "text/plain": [
       "      count      mean       std\n",
       "year                           \n",
       "2002    186 -0.060509  1.016282\n",
       "2007    205 -0.011584  1.004498\n",
       "2012    210 -0.000605  1.001863\n",
       "2017    202 -0.029992  1.000092"
      ]
     },
     "metadata": {},
     "output_type": "display_data"
    },
    {
     "name": "stdout",
     "output_type": "stream",
     "text": [
      "VOA\n"
     ]
    },
    {
     "data": {
      "text/html": [
       "<div>\n",
       "<style scoped>\n",
       "    .dataframe tbody tr th:only-of-type {\n",
       "        vertical-align: middle;\n",
       "    }\n",
       "\n",
       "    .dataframe tbody tr th {\n",
       "        vertical-align: top;\n",
       "    }\n",
       "\n",
       "    .dataframe thead th {\n",
       "        text-align: right;\n",
       "    }\n",
       "</style>\n",
       "<table border=\"1\" class=\"dataframe\">\n",
       "  <thead>\n",
       "    <tr style=\"text-align: right;\">\n",
       "      <th></th>\n",
       "      <th>count</th>\n",
       "      <th>mean</th>\n",
       "      <th>std</th>\n",
       "    </tr>\n",
       "    <tr>\n",
       "      <th>year</th>\n",
       "      <th></th>\n",
       "      <th></th>\n",
       "      <th></th>\n",
       "    </tr>\n",
       "  </thead>\n",
       "  <tbody>\n",
       "    <tr>\n",
       "      <th>2002</th>\n",
       "      <td>186</td>\n",
       "      <td>-0.068941</td>\n",
       "      <td>1.002485</td>\n",
       "    </tr>\n",
       "    <tr>\n",
       "      <th>2007</th>\n",
       "      <td>205</td>\n",
       "      <td>-0.014475</td>\n",
       "      <td>1.000576</td>\n",
       "    </tr>\n",
       "    <tr>\n",
       "      <th>2012</th>\n",
       "      <td>210</td>\n",
       "      <td>-0.004995</td>\n",
       "      <td>1.003467</td>\n",
       "    </tr>\n",
       "    <tr>\n",
       "      <th>2017</th>\n",
       "      <td>202</td>\n",
       "      <td>-0.010031</td>\n",
       "      <td>0.999662</td>\n",
       "    </tr>\n",
       "  </tbody>\n",
       "</table>\n",
       "</div>"
      ],
      "text/plain": [
       "      count      mean       std\n",
       "year                           \n",
       "2002    186 -0.068941  1.002485\n",
       "2007    205 -0.014475  1.000576\n",
       "2012    210 -0.004995  1.003467\n",
       "2017    202 -0.010031  0.999662"
      ]
     },
     "metadata": {},
     "output_type": "display_data"
    },
    {
     "name": "stdout",
     "output_type": "stream",
     "text": [
      "COC_norm\n"
     ]
    },
    {
     "data": {
      "text/html": [
       "<div>\n",
       "<style scoped>\n",
       "    .dataframe tbody tr th:only-of-type {\n",
       "        vertical-align: middle;\n",
       "    }\n",
       "\n",
       "    .dataframe tbody tr th {\n",
       "        vertical-align: top;\n",
       "    }\n",
       "\n",
       "    .dataframe thead th {\n",
       "        text-align: right;\n",
       "    }\n",
       "</style>\n",
       "<table border=\"1\" class=\"dataframe\">\n",
       "  <thead>\n",
       "    <tr style=\"text-align: right;\">\n",
       "      <th></th>\n",
       "      <th>count</th>\n",
       "      <th>mean</th>\n",
       "      <th>std</th>\n",
       "    </tr>\n",
       "    <tr>\n",
       "      <th>year</th>\n",
       "      <th></th>\n",
       "      <th></th>\n",
       "      <th></th>\n",
       "    </tr>\n",
       "  </thead>\n",
       "  <tbody>\n",
       "    <tr>\n",
       "      <th>2002</th>\n",
       "      <td>186</td>\n",
       "      <td>-1.850372e-17</td>\n",
       "      <td>1.0</td>\n",
       "    </tr>\n",
       "    <tr>\n",
       "      <th>2007</th>\n",
       "      <td>205</td>\n",
       "      <td>-1.299773e-17</td>\n",
       "      <td>1.0</td>\n",
       "    </tr>\n",
       "    <tr>\n",
       "      <th>2012</th>\n",
       "      <td>210</td>\n",
       "      <td>-2.431917e-17</td>\n",
       "      <td>1.0</td>\n",
       "    </tr>\n",
       "    <tr>\n",
       "      <th>2017</th>\n",
       "      <td>202</td>\n",
       "      <td>9.893076e-18</td>\n",
       "      <td>1.0</td>\n",
       "    </tr>\n",
       "  </tbody>\n",
       "</table>\n",
       "</div>"
      ],
      "text/plain": [
       "      count          mean  std\n",
       "year                          \n",
       "2002    186 -1.850372e-17  1.0\n",
       "2007    205 -1.299773e-17  1.0\n",
       "2012    210 -2.431917e-17  1.0\n",
       "2017    202  9.893076e-18  1.0"
      ]
     },
     "metadata": {},
     "output_type": "display_data"
    },
    {
     "name": "stdout",
     "output_type": "stream",
     "text": [
      "GOV_norm\n"
     ]
    },
    {
     "data": {
      "text/html": [
       "<div>\n",
       "<style scoped>\n",
       "    .dataframe tbody tr th:only-of-type {\n",
       "        vertical-align: middle;\n",
       "    }\n",
       "\n",
       "    .dataframe tbody tr th {\n",
       "        vertical-align: top;\n",
       "    }\n",
       "\n",
       "    .dataframe thead th {\n",
       "        text-align: right;\n",
       "    }\n",
       "</style>\n",
       "<table border=\"1\" class=\"dataframe\">\n",
       "  <thead>\n",
       "    <tr style=\"text-align: right;\">\n",
       "      <th></th>\n",
       "      <th>count</th>\n",
       "      <th>mean</th>\n",
       "      <th>std</th>\n",
       "    </tr>\n",
       "    <tr>\n",
       "      <th>year</th>\n",
       "      <th></th>\n",
       "      <th></th>\n",
       "      <th></th>\n",
       "    </tr>\n",
       "  </thead>\n",
       "  <tbody>\n",
       "    <tr>\n",
       "      <th>2002</th>\n",
       "      <td>186</td>\n",
       "      <td>-1.134099e-17</td>\n",
       "      <td>1.0</td>\n",
       "    </tr>\n",
       "    <tr>\n",
       "      <th>2007</th>\n",
       "      <td>205</td>\n",
       "      <td>-1.733031e-17</td>\n",
       "      <td>1.0</td>\n",
       "    </tr>\n",
       "    <tr>\n",
       "      <th>2012</th>\n",
       "      <td>210</td>\n",
       "      <td>0.000000e+00</td>\n",
       "      <td>1.0</td>\n",
       "    </tr>\n",
       "    <tr>\n",
       "      <th>2017</th>\n",
       "      <td>202</td>\n",
       "      <td>-1.868692e-17</td>\n",
       "      <td>1.0</td>\n",
       "    </tr>\n",
       "  </tbody>\n",
       "</table>\n",
       "</div>"
      ],
      "text/plain": [
       "      count          mean  std\n",
       "year                          \n",
       "2002    186 -1.134099e-17  1.0\n",
       "2007    205 -1.733031e-17  1.0\n",
       "2012    210  0.000000e+00  1.0\n",
       "2017    202 -1.868692e-17  1.0"
      ]
     },
     "metadata": {},
     "output_type": "display_data"
    },
    {
     "name": "stdout",
     "output_type": "stream",
     "text": [
      "RSA_norm\n"
     ]
    },
    {
     "data": {
      "text/html": [
       "<div>\n",
       "<style scoped>\n",
       "    .dataframe tbody tr th:only-of-type {\n",
       "        vertical-align: middle;\n",
       "    }\n",
       "\n",
       "    .dataframe tbody tr th {\n",
       "        vertical-align: top;\n",
       "    }\n",
       "\n",
       "    .dataframe thead th {\n",
       "        text-align: right;\n",
       "    }\n",
       "</style>\n",
       "<table border=\"1\" class=\"dataframe\">\n",
       "  <thead>\n",
       "    <tr style=\"text-align: right;\">\n",
       "      <th></th>\n",
       "      <th>count</th>\n",
       "      <th>mean</th>\n",
       "      <th>std</th>\n",
       "    </tr>\n",
       "    <tr>\n",
       "      <th>year</th>\n",
       "      <th></th>\n",
       "      <th></th>\n",
       "      <th></th>\n",
       "    </tr>\n",
       "  </thead>\n",
       "  <tbody>\n",
       "    <tr>\n",
       "      <th>2002</th>\n",
       "      <td>186</td>\n",
       "      <td>-1.193788e-18</td>\n",
       "      <td>1.0</td>\n",
       "    </tr>\n",
       "    <tr>\n",
       "      <th>2007</th>\n",
       "      <td>205</td>\n",
       "      <td>1.353931e-17</td>\n",
       "      <td>1.0</td>\n",
       "    </tr>\n",
       "    <tr>\n",
       "      <th>2012</th>\n",
       "      <td>210</td>\n",
       "      <td>1.057355e-18</td>\n",
       "      <td>1.0</td>\n",
       "    </tr>\n",
       "    <tr>\n",
       "      <th>2017</th>\n",
       "      <td>202</td>\n",
       "      <td>-1.099231e-18</td>\n",
       "      <td>1.0</td>\n",
       "    </tr>\n",
       "  </tbody>\n",
       "</table>\n",
       "</div>"
      ],
      "text/plain": [
       "      count          mean  std\n",
       "year                          \n",
       "2002    186 -1.193788e-18  1.0\n",
       "2007    205  1.353931e-17  1.0\n",
       "2012    210  1.057355e-18  1.0\n",
       "2017    202 -1.099231e-18  1.0"
      ]
     },
     "metadata": {},
     "output_type": "display_data"
    },
    {
     "name": "stdout",
     "output_type": "stream",
     "text": [
      "REQ_norm\n"
     ]
    },
    {
     "data": {
      "text/html": [
       "<div>\n",
       "<style scoped>\n",
       "    .dataframe tbody tr th:only-of-type {\n",
       "        vertical-align: middle;\n",
       "    }\n",
       "\n",
       "    .dataframe tbody tr th {\n",
       "        vertical-align: top;\n",
       "    }\n",
       "\n",
       "    .dataframe thead th {\n",
       "        text-align: right;\n",
       "    }\n",
       "</style>\n",
       "<table border=\"1\" class=\"dataframe\">\n",
       "  <thead>\n",
       "    <tr style=\"text-align: right;\">\n",
       "      <th></th>\n",
       "      <th>count</th>\n",
       "      <th>mean</th>\n",
       "      <th>std</th>\n",
       "    </tr>\n",
       "    <tr>\n",
       "      <th>year</th>\n",
       "      <th></th>\n",
       "      <th></th>\n",
       "      <th></th>\n",
       "    </tr>\n",
       "  </thead>\n",
       "  <tbody>\n",
       "    <tr>\n",
       "      <th>2002</th>\n",
       "      <td>186</td>\n",
       "      <td>-1.193788e-18</td>\n",
       "      <td>1.0</td>\n",
       "    </tr>\n",
       "    <tr>\n",
       "      <th>2007</th>\n",
       "      <td>205</td>\n",
       "      <td>2.653704e-17</td>\n",
       "      <td>1.0</td>\n",
       "    </tr>\n",
       "    <tr>\n",
       "      <th>2012</th>\n",
       "      <td>210</td>\n",
       "      <td>-7.401487e-18</td>\n",
       "      <td>1.0</td>\n",
       "    </tr>\n",
       "    <tr>\n",
       "      <th>2017</th>\n",
       "      <td>202</td>\n",
       "      <td>-9.893076e-18</td>\n",
       "      <td>1.0</td>\n",
       "    </tr>\n",
       "  </tbody>\n",
       "</table>\n",
       "</div>"
      ],
      "text/plain": [
       "      count          mean  std\n",
       "year                          \n",
       "2002    186 -1.193788e-18  1.0\n",
       "2007    205  2.653704e-17  1.0\n",
       "2012    210 -7.401487e-18  1.0\n",
       "2017    202 -9.893076e-18  1.0"
      ]
     },
     "metadata": {},
     "output_type": "display_data"
    },
    {
     "name": "stdout",
     "output_type": "stream",
     "text": [
      "ROL_norm\n"
     ]
    },
    {
     "data": {
      "text/html": [
       "<div>\n",
       "<style scoped>\n",
       "    .dataframe tbody tr th:only-of-type {\n",
       "        vertical-align: middle;\n",
       "    }\n",
       "\n",
       "    .dataframe tbody tr th {\n",
       "        vertical-align: top;\n",
       "    }\n",
       "\n",
       "    .dataframe thead th {\n",
       "        text-align: right;\n",
       "    }\n",
       "</style>\n",
       "<table border=\"1\" class=\"dataframe\">\n",
       "  <thead>\n",
       "    <tr style=\"text-align: right;\">\n",
       "      <th></th>\n",
       "      <th>count</th>\n",
       "      <th>mean</th>\n",
       "      <th>std</th>\n",
       "    </tr>\n",
       "    <tr>\n",
       "      <th>year</th>\n",
       "      <th></th>\n",
       "      <th></th>\n",
       "      <th></th>\n",
       "    </tr>\n",
       "  </thead>\n",
       "  <tbody>\n",
       "    <tr>\n",
       "      <th>2002</th>\n",
       "      <td>186</td>\n",
       "      <td>1.432546e-17</td>\n",
       "      <td>1.0</td>\n",
       "    </tr>\n",
       "    <tr>\n",
       "      <th>2007</th>\n",
       "      <td>205</td>\n",
       "      <td>-5.957294e-18</td>\n",
       "      <td>1.0</td>\n",
       "    </tr>\n",
       "    <tr>\n",
       "      <th>2012</th>\n",
       "      <td>210</td>\n",
       "      <td>-2.749124e-17</td>\n",
       "      <td>1.0</td>\n",
       "    </tr>\n",
       "    <tr>\n",
       "      <th>2017</th>\n",
       "      <td>202</td>\n",
       "      <td>1.758769e-17</td>\n",
       "      <td>1.0</td>\n",
       "    </tr>\n",
       "  </tbody>\n",
       "</table>\n",
       "</div>"
      ],
      "text/plain": [
       "      count          mean  std\n",
       "year                          \n",
       "2002    186  1.432546e-17  1.0\n",
       "2007    205 -5.957294e-18  1.0\n",
       "2012    210 -2.749124e-17  1.0\n",
       "2017    202  1.758769e-17  1.0"
      ]
     },
     "metadata": {},
     "output_type": "display_data"
    },
    {
     "name": "stdout",
     "output_type": "stream",
     "text": [
      "VOA_norm\n"
     ]
    },
    {
     "data": {
      "text/html": [
       "<div>\n",
       "<style scoped>\n",
       "    .dataframe tbody tr th:only-of-type {\n",
       "        vertical-align: middle;\n",
       "    }\n",
       "\n",
       "    .dataframe tbody tr th {\n",
       "        vertical-align: top;\n",
       "    }\n",
       "\n",
       "    .dataframe thead th {\n",
       "        text-align: right;\n",
       "    }\n",
       "</style>\n",
       "<table border=\"1\" class=\"dataframe\">\n",
       "  <thead>\n",
       "    <tr style=\"text-align: right;\">\n",
       "      <th></th>\n",
       "      <th>count</th>\n",
       "      <th>mean</th>\n",
       "      <th>std</th>\n",
       "    </tr>\n",
       "    <tr>\n",
       "      <th>year</th>\n",
       "      <th></th>\n",
       "      <th></th>\n",
       "      <th></th>\n",
       "    </tr>\n",
       "  </thead>\n",
       "  <tbody>\n",
       "    <tr>\n",
       "      <th>2002</th>\n",
       "      <td>186</td>\n",
       "      <td>2.626334e-17</td>\n",
       "      <td>1.0</td>\n",
       "    </tr>\n",
       "    <tr>\n",
       "      <th>2007</th>\n",
       "      <td>205</td>\n",
       "      <td>1.137302e-17</td>\n",
       "      <td>1.0</td>\n",
       "    </tr>\n",
       "    <tr>\n",
       "      <th>2012</th>\n",
       "      <td>210</td>\n",
       "      <td>1.850372e-17</td>\n",
       "      <td>1.0</td>\n",
       "    </tr>\n",
       "    <tr>\n",
       "      <th>2017</th>\n",
       "      <td>202</td>\n",
       "      <td>-2.748077e-17</td>\n",
       "      <td>1.0</td>\n",
       "    </tr>\n",
       "  </tbody>\n",
       "</table>\n",
       "</div>"
      ],
      "text/plain": [
       "      count          mean  std\n",
       "year                          \n",
       "2002    186  2.626334e-17  1.0\n",
       "2007    205  1.137302e-17  1.0\n",
       "2012    210  1.850372e-17  1.0\n",
       "2017    202 -2.748077e-17  1.0"
      ]
     },
     "metadata": {},
     "output_type": "display_data"
    }
   ],
   "source": [
    "# Group variables\n",
    "allyearslist = list(range(2002,2017))\n",
    "subyearlist  = [2002, 2007, 2012, 2017]\n",
    "\n",
    "# List of all governance index variables\n",
    "varlist_wgi = ['COC','GOV', 'RSA', 'REQ', 'ROL', 'VOA']\n",
    "\n",
    "# List of all normalized governance index variables\n",
    "varlist_wgi_norm = list(map(lambda x: x + '_norm', varlist_wgi))\n",
    "\n",
    "# List of all variables\n",
    "varlist_all = ['GDP', 'GINI'] + varlist_wgi\n",
    "\n",
    "# Ensure all variables are perfectly normalized within year\n",
    "final = dataproject.standardize_by_group(final, varlist_wgi, 'year')\n",
    "\n",
    "# Simple Descriptive Statistics\n",
    "simplestats_noyear = dataproject.calc_simplestats(final, varlist_all, group_by_year=False)\n",
    "simplestats = dataproject.calc_simplestats(final, varlist_all, group_by_year=True, groups_to_print=subyearlist)\n",
    "simplestats_norm = dataproject.calc_simplestats(final, varlist_wgi_norm, group_by_year=True, groups_to_print=subyearlist)\n",
    "\n",
    "# Print stats\n",
    "print('N, Mean, Std. across all years')\n",
    "display(simplestats_noyear)\n",
    "\n",
    "# Print stats by year\n",
    "for var in varlist_all:\n",
    "    print(var)\n",
    "    display(simplestats[var])\n",
    "\n",
    "# Print normalized wgi stats by year\n",
    "for var in varlist_wgi_norm:\n",
    "    print(var)\n",
    "    display(simplestats_norm[var])"
   ]
  },
  {
   "cell_type": "markdown",
   "metadata": {},
   "source": [
    "# Analysis"
   ]
  },
  {
   "attachments": {},
   "cell_type": "markdown",
   "metadata": {},
   "source": [
    "The analysis consists of 4 parts:\n",
    "* First, we show the correlation between GINI, GDP and COC across time.\n",
    "* Second, we show the correlation between GINI at a given point in time, and GDP growth 0, 10, 20 and 30 years later. \n",
    "* Third, we both show the correlation between GDP and the different WGI and GINI the different indicators.\n",
    "* Fourth, we show the correlation between GINI in 2000 and the variance of detrended GDP in the subsequent 20 years."
   ]
  },
  {
   "attachments": {},
   "cell_type": "markdown",
   "metadata": {},
   "source": [
    "We first present a scatter plot, which plots GINI on the x-axis and GDP on the y-axis for a given year. The dots, each representing a country are coloured based on their score on Control of Corruption (COC). We use our standardised version of the original measure from the World Governance Indicators.\n",
    "\n",
    "If one slides through each year from 1996 to 2017 the first (trivial) observation is that countries move upwards over time due to economic growth. It seems as if the dots also move to the left over time - that they become more equal, but this could just be an artefact of the fact that the sample size of countries growing over time.\n",
    "\n",
    "Lastly, countries with the same level of Control of Corruption seem to be clustered at the same income levels and not the level of economic equality. Countries with a low GDP tend to have a high level of corruption, but various different distributions of income, whereas countries with a higher income tend to have low levels of corrution, but also a more equal distribution of income."
   ]
  },
  {
   "cell_type": "code",
   "execution_count": 23,
   "metadata": {},
   "outputs": [
    {
     "data": {
      "application/vnd.jupyter.widget-view+json": {
       "model_id": "6a94561e3091457bba0ee3537d0e5b22",
       "version_major": 2,
       "version_minor": 0
      },
      "text/plain": [
       "interactive(children=(Dropdown(description='year', options=(1996, 1998, 2000, 2002, 2003, 2004, 2005, 2006, 20…"
      ]
     },
     "metadata": {},
     "output_type": "display_data"
    }
   ],
   "source": [
    "dataproject.ScatterPlot(final,'GINI','GDP','COC_norm')"
   ]
  },
  {
   "attachments": {},
   "cell_type": "markdown",
   "metadata": {},
   "source": [
    "The graph below shows the correlation between GINI at a given point in time and GDP growth 0, 20, 40 and 60, years later, in panel 1-4, respectively. In panel 2 and 4 the two variables are completely uncorrelated. In panel 1, and 3 on the other hand, there is a negative relationship between GINI and GDP. The countries who are more unequal tend to have a lower growth rate of GDP. The correlations are all economically insigificant as eg. GDP growth after 10 years is only .2 pct. points smaller if GINI was 10 points larger. The relationship is only statistically significant on a 1 pct. level after 40 years, where a one point larger GINI is associated with a -0.03 pct point lower GDP growth."
   ]
  },
  {
   "cell_type": "code",
   "execution_count": 21,
   "metadata": {},
   "outputs": [
    {
     "data": {
      "image/png": "[encoded data removed]",
      "text/plain": [
       "<Figure size 800x600 with 8 Axes>"
      ]
     },
     "metadata": {},
     "output_type": "display_data"
    }
   ],
   "source": [
    "dataproject.corr(final,'GINI','GDP_growth')"
   ]
  },
  {
   "attachments": {},
   "cell_type": "markdown",
   "metadata": {},
   "source": [
    "The table below shows a regression of GDP and our standardised measures of the different WGI's in the same year.\n",
    "Unsuprisingly, we find that GDP has a positive correlation with almost all of the WGIs. The only one which is not positive is the correlation between Voice and Accountability and the level of GDP. COC, GOV and VOA each has a statistically significant correlation with GDP on a 1 pct. level."
   ]
  },
  {
   "cell_type": "code",
   "execution_count": 8,
   "metadata": {},
   "outputs": [
    {
     "name": "stdout",
     "output_type": "stream",
     "text": [
      "                            OLS Regression Results                            \n",
      "==============================================================================\n",
      "Dep. Variable:                    GDP   R-squared:                       0.233\n",
      "Model:                            OLS   Adj. R-squared:                  0.232\n",
      "Method:                 Least Squares   F-statistic:                     166.9\n",
      "Date:                Sun, 16 Apr 2023   Prob (F-statistic):          1.13e-185\n",
      "Time:                        16:46:20   Log-Likelihood:                -36694.\n",
      "No. Observations:                3298   AIC:                         7.340e+04\n",
      "Df Residuals:                    3291   BIC:                         7.344e+04\n",
      "Df Model:                           6                                         \n",
      "Covariance Type:            nonrobust                                         \n",
      "==============================================================================\n",
      "                 coef    std err          t      P>|t|      [0.025      0.975]\n",
      "------------------------------------------------------------------------------\n",
      "const       1.285e+04    287.030     44.752      0.000    1.23e+04    1.34e+04\n",
      "COC_norm    4266.6449    913.991      4.668      0.000    2474.596    6058.693\n",
      "GOV_norm    4696.1866   1056.929      4.443      0.000    2623.881    6768.492\n",
      "REQ_norm    1345.0636    866.538      1.552      0.121    -353.944    3044.072\n",
      "ROL_norm     998.1208   1136.465      0.878      0.380   -1230.128    3226.370\n",
      "RSA_norm     337.4423    471.650      0.715      0.474    -587.315    1262.199\n",
      "VOA_norm   -2907.0850    531.796     -5.467      0.000   -3949.770   -1864.400\n",
      "==============================================================================\n",
      "Omnibus:                     1795.322   Durbin-Watson:                   0.242\n",
      "Prob(Omnibus):                  0.000   Jarque-Bera (JB):            18324.181\n",
      "Skew:                           2.398   Prob(JB):                         0.00\n",
      "Kurtosis:                      13.505   Cond. No.                         10.2\n",
      "==============================================================================\n",
      "\n",
      "Notes:\n",
      "[1] Standard Errors assume that the covariance matrix of the errors is correctly specified.\n"
     ]
    }
   ],
   "source": [
    "# a list named x_list1 is defined, which contains the names of the six independent variables.\n",
    "x_list1 = ['COC_norm', 'GOV_norm', 'REQ_norm', 'ROL_norm', 'RSA_norm', 'VOA_norm']\n",
    "reg_results1 = dataproject.regression(final,'GDP',x_list1)"
   ]
  },
  {
   "attachments": {},
   "cell_type": "markdown",
   "metadata": {},
   "source": [
    "We then turn to show how GINI is related to the different WGIs by regressing GINI on the six measures. Interestingly, It is positively correlated with three WGIs: COC, REQ and VOA, and negatively related to the other three. The picture is similar to the one shown in the scatter plot, where COC seemed to be much more tightly related to GDP than to GINI."
   ]
  },
  {
   "cell_type": "code",
   "execution_count": 9,
   "metadata": {},
   "outputs": [
    {
     "name": "stdout",
     "output_type": "stream",
     "text": [
      "                            OLS Regression Results                            \n",
      "==============================================================================\n",
      "Dep. Variable:                   GINI   R-squared:                       0.199\n",
      "Model:                            OLS   Adj. R-squared:                  0.194\n",
      "Method:                 Least Squares   F-statistic:                     39.34\n",
      "Date:                Sun, 16 Apr 2023   Prob (F-statistic):           7.56e-43\n",
      "Time:                        16:46:20   Log-Likelihood:                -3340.5\n",
      "No. Observations:                 958   AIC:                             6695.\n",
      "Df Residuals:                     951   BIC:                             6729.\n",
      "Df Model:                           6                                         \n",
      "Covariance Type:            nonrobust                                         \n",
      "==============================================================================\n",
      "                 coef    std err          t      P>|t|      [0.025      0.975]\n",
      "------------------------------------------------------------------------------\n",
      "const         38.7197      0.281    137.948      0.000      38.169      39.271\n",
      "COC_norm       2.6405      0.890      2.968      0.003       0.895       4.386\n",
      "GOV_norm      -4.3098      1.092     -3.946      0.000      -6.453      -2.167\n",
      "REQ_norm       3.1944      0.865      3.693      0.000       1.497       4.892\n",
      "ROL_norm      -4.4857      1.161     -3.865      0.000      -6.763      -2.208\n",
      "RSA_norm      -1.8975      0.458     -4.144      0.000      -2.796      -0.999\n",
      "VOA_norm       1.3110      0.553      2.371      0.018       0.226       2.396\n",
      "==============================================================================\n",
      "Omnibus:                       56.223   Durbin-Watson:                   0.561\n",
      "Prob(Omnibus):                  0.000   Jarque-Bera (JB):               65.446\n",
      "Skew:                           0.595   Prob(JB):                     6.15e-15\n",
      "Kurtosis:                       3.473   Cond. No.                         12.2\n",
      "==============================================================================\n",
      "\n",
      "Notes:\n",
      "[1] Standard Errors assume that the covariance matrix of the errors is correctly specified.\n"
     ]
    }
   ],
   "source": [
    "# a list named x_list2 is defined, which contains the names of the six independent variables.\n",
    "x_list2 = ['COC_norm', 'GOV_norm', 'REQ_norm', 'ROL_norm', 'RSA_norm', 'VOA_norm']\n",
    "reg_results1 = dataproject.regression(final,'GINI',x_list2)"
   ]
  },
  {
   "attachments": {},
   "cell_type": "markdown",
   "metadata": {},
   "source": [
    "Note: The graph below is not credible, as the de-trending has not been done properly. We are currently searching for ways to resolve the problem. We interpret the available results anyway.\n",
    "\n",
    "Lastly, we check whether countries who were more equal in year 2000 had a more variable GDP in the following 19 years (including year 2000). We detrend GDP and calculate the standard deviation of the resulting 20 year time series. Regressing the variance of detrended GDP on the WGI's in year 2000 shows that for COC, GOV, REQ and RSA countries with better scores had a higher variance og GDP, whereas it is negative for ROL and VOA. It is only statistically significant for VOA on a 5 pct. level, so the results should be interpreted with caution."
   ]
  },
  {
   "cell_type": "code",
   "execution_count": 11,
   "metadata": {},
   "outputs": [
    {
     "name": "stdout",
     "output_type": "stream",
     "text": [
      "The autoreload extension is already loaded. To reload it, use:\n",
      "  %reload_ext autoreload\n",
      "                            OLS Regression Results                            \n",
      "==============================================================================\n",
      "Dep. Variable:                    std   R-squared:                       0.235\n",
      "Model:                            OLS   Adj. R-squared:                  0.207\n",
      "Method:                 Least Squares   F-statistic:                     8.444\n",
      "Date:                Sun, 16 Apr 2023   Prob (F-statistic):           5.36e-08\n",
      "Time:                        16:47:09   Log-Likelihood:                -1547.5\n",
      "No. Observations:                 172   AIC:                             3109.\n",
      "Df Residuals:                     165   BIC:                             3131.\n",
      "Df Model:                           6                                         \n",
      "Covariance Type:            nonrobust                                         \n",
      "==============================================================================\n",
      "                 coef    std err          t      P>|t|      [0.025      0.975]\n",
      "------------------------------------------------------------------------------\n",
      "const       1400.9942    152.388      9.194      0.000    1100.113    1701.876\n",
      "COC_norm     179.1316    468.119      0.383      0.702    -745.145    1103.408\n",
      "GOV_norm     844.7188    608.785      1.388      0.167    -357.293    2046.731\n",
      "REQ_norm     627.8556    484.501      1.296      0.197    -328.765    1584.476\n",
      "ROL_norm    -224.0376    609.182     -0.368      0.714   -1426.834     978.759\n",
      "RSA_norm     292.2024    273.457      1.069      0.287    -247.723     832.128\n",
      "VOA_norm    -704.2096    327.082     -2.153      0.033   -1350.016     -58.403\n",
      "==============================================================================\n",
      "Omnibus:                      254.930   Durbin-Watson:                   1.889\n",
      "Prob(Omnibus):                  0.000   Jarque-Bera (JB):            25546.062\n",
      "Skew:                           6.364   Prob(JB):                         0.00\n",
      "Kurtosis:                      61.332   Cond. No.                         10.9\n",
      "==============================================================================\n",
      "\n",
      "Notes:\n",
      "[1] Standard Errors assume that the covariance matrix of the errors is correctly specified.\n"
     ]
    }
   ],
   "source": [
    "# We choose the explanatory varaibles and the years to be used in the regression.\n",
    "years = range(2000, 2021)\n",
    "year = 2000\n",
    "x_list3 = ['COC_norm', 'GOV_norm', 'REQ_norm', 'ROL_norm', 'RSA_norm', 'VOA_norm']\n",
    "\n",
    "dataproject.regression1(final,'GDP', x_list3, years, year)"
   ]
  },
  {
   "cell_type": "markdown",
   "metadata": {},
   "source": [
    "# Conclusion"
   ]
  },
  {
   "attachments": {},
   "cell_type": "markdown",
   "metadata": {},
   "source": [
    "In this assignment we have documented a strong, but extremely trivial empirical fact: that countries GDP grow over time. Secondly, and less trivially the WGI is more tightly related to the level of GDP than to the distribution thereof, given by the GINI coefficient. Lastly we have neither found evidence suggesting that more equal countries have a higher level of GDP as years pass nor that their GDP is less volatile in a 20 year period, after the GINI is measured.\n",
    "\n",
    "We leave the much more difficult analysis of the causal relationship between inequality, GDP and WGI for future \"Introduction to Programming and Numerical Analysis\"-students."
   ]
  }
 ],
 "metadata": {
  "kernelspec": {
   "display_name": "base",
   "language": "python",
   "name": "python3"
  },
  "language_info": {
   "codemirror_mode": {
    "name": "ipython",
    "version": 3
   },
   "file_extension": ".py",
   "mimetype": "text/x-python",
   "name": "python",
   "nbconvert_exporter": "python",
   "pygments_lexer": "ipython3",
   "version": "3.9.16"
  },
  "toc-autonumbering": true,
  "vscode": {
   "interpreter": {
    "hash": "47ef90cdf3004d3f859f1fb202523c65c07ba7c22eefd261b181f4744e2d0403"
   }
  }
 },
 "nbformat": 4,
 "nbformat_minor": 4
}
