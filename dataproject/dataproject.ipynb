{
 "cells": [
  {
   "cell_type": "markdown",
   "metadata": {},
   "source": [
    "# YOUR PROJECT TITLE"
   ]
  },
  {
   "attachments": {},
   "cell_type": "markdown",
   "metadata": {},
   "source": [
    "> **Note the following:** \n",
    "> 1. This is *not* meant to be an example of an actual **data analysis project**, just an example of how to structure such a project.\n",
    "> 1. Remember the general advice on structuring and commenting your code\n",
    "> 1. The `dataproject.py` file includes a function which can be used multiple times in this notebook."
   ]
  },
  {
   "cell_type": "markdown",
   "metadata": {},
   "source": [
    "Imports and set magics:"
   ]
  },
  {
   "cell_type": "code",
   "execution_count": 63,
   "metadata": {},
   "outputs": [
    {
     "name": "stdout",
     "output_type": "stream",
     "text": [
      "The autoreload extension is already loaded. To reload it, use:\n",
      "  %reload_ext autoreload\n"
     ]
    }
   ],
   "source": [
    "import pandas as pd\n",
    "import numpy as np\n",
    "import matplotlib.pyplot as plt\n",
    "import ipywidgets as widgets\n",
    "from pandas_datareader import wb\n",
    "\n",
    "# autoreload modules when code is run\n",
    "%load_ext autoreload\n",
    "%autoreload 2\n",
    "\n",
    "# user written modules\n",
    "import dataproject\n"
   ]
  },
  {
   "cell_type": "markdown",
   "metadata": {},
   "source": [
    "# Read and clean data"
   ]
  },
  {
   "cell_type": "code",
   "execution_count": 64,
   "metadata": {},
   "outputs": [
    {
     "name": "stdout",
     "output_type": "stream",
     "text": [
      "<class 'pandas.core.frame.DataFrame'>\n",
      "RangeIndex: 87 entries, 0 to 86\n",
      "Data columns (total 3 columns):\n",
      " #   Column   Non-Null Count  Dtype  \n",
      "---  ------   --------------  -----  \n",
      " 0   country  87 non-null     string \n",
      " 1   year     87 non-null     int32  \n",
      " 2   GINI     69 non-null     float64\n",
      "dtypes: float64(1), int32(1), string(1)\n",
      "memory usage: 1.8 KB\n",
      "<class 'pandas.core.frame.DataFrame'>\n",
      "RangeIndex: 87 entries, 0 to 86\n",
      "Data columns (total 3 columns):\n",
      " #   Column   Non-Null Count  Dtype  \n",
      "---  ------   --------------  -----  \n",
      " 0   country  87 non-null     string \n",
      " 1   year     87 non-null     int32  \n",
      " 2   GDP      80 non-null     float64\n",
      "dtypes: float64(1), int32(1), string(1)\n",
      "memory usage: 1.8 KB\n"
     ]
    }
   ],
   "source": [
    "wb_gini = wb.download(indicator='SI.POV.GINI', start=1990, end=2018)\n",
    "wb_gini = wb_gini.rename(columns = {'SI.POV.GINI':'GINI'})\n",
    "wb_gini = wb_gini.reset_index()\n",
    "wb_gini.year = wb_gini.year.astype(int) # convert year\n",
    "wb_gini.country = wb_gini.country.astype('string') # convert country to the special pandas string type\n",
    "wb_gini.info()\n",
    "\n",
    "wb_gdp = wb.download(indicator='NY.GDP.PCAP.KD', start=1990, end=2018)\n",
    "wb_gdp = wb_gdp.rename(columns = {'NY.GDP.PCAP.KD':'GDP'})\n",
    "wb_gdp.reset_index(inplace = True)\n",
    "wb_gdp.year = wb_gdp.year.astype(int)\n",
    "wb_gdp.country = wb_gdp.country.astype('string') # convert country to the special pandas string type\n",
    "wb_gdp.info()\n",
    "wb_gdp.head()\n",
    "\n",
    "wb = pd.merge(wb_gini, wb_gdp, how = 'outer', on = ['country','year']);"
   ]
  },
  {
   "cell_type": "code",
   "execution_count": 62,
   "metadata": {},
   "outputs": [
    {
     "data": {
      "text/html": [
       "<div>\n",
       "<style scoped>\n",
       "    .dataframe tbody tr th:only-of-type {\n",
       "        vertical-align: middle;\n",
       "    }\n",
       "\n",
       "    .dataframe tbody tr th {\n",
       "        vertical-align: top;\n",
       "    }\n",
       "\n",
       "    .dataframe thead th {\n",
       "        text-align: right;\n",
       "    }\n",
       "</style>\n",
       "<table border=\"1\" class=\"dataframe\">\n",
       "  <thead>\n",
       "    <tr style=\"text-align: right;\">\n",
       "      <th></th>\n",
       "      <th>country</th>\n",
       "      <th>year</th>\n",
       "      <th>GINI</th>\n",
       "      <th>GDP</th>\n",
       "    </tr>\n",
       "  </thead>\n",
       "  <tbody>\n",
       "    <tr>\n",
       "      <th>41</th>\n",
       "      <td>Mexico</td>\n",
       "      <td>2012</td>\n",
       "      <td>48.7</td>\n",
       "      <td>9401.977909</td>\n",
       "    </tr>\n",
       "    <tr>\n",
       "      <th>39</th>\n",
       "      <td>Mexico</td>\n",
       "      <td>2014</td>\n",
       "      <td>48.7</td>\n",
       "      <td>9553.266081</td>\n",
       "    </tr>\n",
       "    <tr>\n",
       "      <th>34</th>\n",
       "      <td>Mexico</td>\n",
       "      <td>2019</td>\n",
       "      <td>NaN</td>\n",
       "      <td>10013.703192</td>\n",
       "    </tr>\n",
       "    <tr>\n",
       "      <th>93</th>\n",
       "      <td>United States</td>\n",
       "      <td>1992</td>\n",
       "      <td>38.4</td>\n",
       "      <td>39552.021878</td>\n",
       "    </tr>\n",
       "    <tr>\n",
       "      <th>52</th>\n",
       "      <td>Mexico</td>\n",
       "      <td>2001</td>\n",
       "      <td>NaN</td>\n",
       "      <td>8782.127396</td>\n",
       "    </tr>\n",
       "  </tbody>\n",
       "</table>\n",
       "</div>"
      ],
      "text/plain": [
       "          country  year  GINI           GDP\n",
       "41         Mexico  2012  48.7   9401.977909\n",
       "39         Mexico  2014  48.7   9553.266081\n",
       "34         Mexico  2019   NaN  10013.703192\n",
       "93  United States  1992  38.4  39552.021878\n",
       "52         Mexico  2001   NaN   8782.127396"
      ]
     },
     "execution_count": 62,
     "metadata": {},
     "output_type": "execute_result"
    }
   ],
   "source": [
    "wb.sample(5)"
   ]
  },
  {
   "cell_type": "code",
   "execution_count": 77,
   "metadata": {},
   "outputs": [
    {
     "data": {
      "text/html": [
       "<div>\n",
       "<style scoped>\n",
       "    .dataframe tbody tr th:only-of-type {\n",
       "        vertical-align: middle;\n",
       "    }\n",
       "\n",
       "    .dataframe tbody tr th {\n",
       "        vertical-align: top;\n",
       "    }\n",
       "\n",
       "    .dataframe thead th {\n",
       "        text-align: right;\n",
       "    }\n",
       "</style>\n",
       "<table border=\"1\" class=\"dataframe\">\n",
       "  <thead>\n",
       "    <tr style=\"text-align: right;\">\n",
       "      <th></th>\n",
       "      <th>Country Name</th>\n",
       "      <th>Series Name</th>\n",
       "      <th>wgi1996</th>\n",
       "      <th>wgi1998</th>\n",
       "      <th>wgi2000</th>\n",
       "      <th>wgi2002</th>\n",
       "      <th>wgi2003</th>\n",
       "      <th>wgi2004</th>\n",
       "      <th>wgi2005</th>\n",
       "      <th>wgi2006</th>\n",
       "      <th>...</th>\n",
       "      <th>wgi2012</th>\n",
       "      <th>wgi2013</th>\n",
       "      <th>wgi2014</th>\n",
       "      <th>wgi2015</th>\n",
       "      <th>wgi2016</th>\n",
       "      <th>wgi2017</th>\n",
       "      <th>wgi2018</th>\n",
       "      <th>wgi2019</th>\n",
       "      <th>wgi2020</th>\n",
       "      <th>wgi2021</th>\n",
       "    </tr>\n",
       "  </thead>\n",
       "  <tbody>\n",
       "    <tr>\n",
       "      <th>0</th>\n",
       "      <td>Afghanistan</td>\n",
       "      <td>Control of Corruption: Percentile Rank</td>\n",
       "      <td>4.30107545852661</td>\n",
       "      <td>8.02138996124268</td>\n",
       "      <td>4.78723382949829</td>\n",
       "      <td>4.7619047164917</td>\n",
       "      <td>4.7619047164917</td>\n",
       "      <td>6.40394067764282</td>\n",
       "      <td>1.46341466903687</td>\n",
       "      <td>1.95121955871582</td>\n",
       "      <td>...</td>\n",
       "      <td>1.42180097103119</td>\n",
       "      <td>0.947867274284363</td>\n",
       "      <td>5.28846168518066</td>\n",
       "      <td>5.76923084259033</td>\n",
       "      <td>3.8461537361145</td>\n",
       "      <td>3.8461537361145</td>\n",
       "      <td>4.807692527771</td>\n",
       "      <td>6.25</td>\n",
       "      <td>4.807692527771</td>\n",
       "      <td>12.5</td>\n",
       "    </tr>\n",
       "    <tr>\n",
       "      <th>1</th>\n",
       "      <td>Afghanistan</td>\n",
       "      <td>Government Effectiveness: Percentile Rank</td>\n",
       "      <td>0</td>\n",
       "      <td>0</td>\n",
       "      <td>0</td>\n",
       "      <td>2.16216206550598</td>\n",
       "      <td>11.3513517379761</td>\n",
       "      <td>18.9054718017578</td>\n",
       "      <td>9.80392169952393</td>\n",
       "      <td>3.90243911743164</td>\n",
       "      <td>...</td>\n",
       "      <td>5.68720388412476</td>\n",
       "      <td>5.68720388412476</td>\n",
       "      <td>7.21153831481934</td>\n",
       "      <td>7.21153831481934</td>\n",
       "      <td>8.17307662963867</td>\n",
       "      <td>8.17307662963867</td>\n",
       "      <td>7.692307472229</td>\n",
       "      <td>7.21153831481934</td>\n",
       "      <td>5.28846168518066</td>\n",
       "      <td>5.76923084259033</td>\n",
       "    </tr>\n",
       "    <tr>\n",
       "      <th>2</th>\n",
       "      <td>Afghanistan</td>\n",
       "      <td>Political Stability and Absence of Violence/Te...</td>\n",
       "      <td>2.12765955924988</td>\n",
       "      <td>0.531914889812469</td>\n",
       "      <td>0.52910053730011</td>\n",
       "      <td>1.58730161190033</td>\n",
       "      <td>2.01005029678345</td>\n",
       "      <td>1.94174754619598</td>\n",
       "      <td>2.42718458175659</td>\n",
       "      <td>1.44927537441254</td>\n",
       "      <td>...</td>\n",
       "      <td>1.89573454856873</td>\n",
       "      <td>1.42180097103119</td>\n",
       "      <td>2.85714292526245</td>\n",
       "      <td>0.952380955219269</td>\n",
       "      <td>0.952380955219269</td>\n",
       "      <td>0.476190477609634</td>\n",
       "      <td>0.471698105335236</td>\n",
       "      <td>0.943396210670471</td>\n",
       "      <td>0.471698105335236</td>\n",
       "      <td>1.41509437561035</td>\n",
       "    </tr>\n",
       "    <tr>\n",
       "      <th>3</th>\n",
       "      <td>Afghanistan</td>\n",
       "      <td>Regulatory Quality: Percentile Rank</td>\n",
       "      <td>1.63043475151062</td>\n",
       "      <td>2.17391300201416</td>\n",
       "      <td>1.63043475151062</td>\n",
       "      <td>2.16216206550598</td>\n",
       "      <td>4.86486482620239</td>\n",
       "      <td>5.97014904022217</td>\n",
       "      <td>2.94117641448975</td>\n",
       "      <td>2.94117641448975</td>\n",
       "      <td>...</td>\n",
       "      <td>10.4265403747559</td>\n",
       "      <td>10.4265403747559</td>\n",
       "      <td>11.057692527771</td>\n",
       "      <td>14.9038457870483</td>\n",
       "      <td>7.21153831481934</td>\n",
       "      <td>7.21153831481934</td>\n",
       "      <td>10.5769233703613</td>\n",
       "      <td>10.0961542129517</td>\n",
       "      <td>8.17307662963867</td>\n",
       "      <td>8.17307662963867</td>\n",
       "    </tr>\n",
       "    <tr>\n",
       "      <th>4</th>\n",
       "      <td>Afghanistan</td>\n",
       "      <td>Rule of Law: Percentile Rank</td>\n",
       "      <td>1.50753772258759</td>\n",
       "      <td>2</td>\n",
       "      <td>1.49253726005554</td>\n",
       "      <td>1.99004971981049</td>\n",
       "      <td>2.98507452011108</td>\n",
       "      <td>2.4038462638855</td>\n",
       "      <td>2.39234447479248</td>\n",
       "      <td>0.478468894958496</td>\n",
       "      <td>...</td>\n",
       "      <td>1.4084507226944</td>\n",
       "      <td>1.877934217453</td>\n",
       "      <td>4.32692289352417</td>\n",
       "      <td>4.32692289352417</td>\n",
       "      <td>5.76923084259033</td>\n",
       "      <td>5.28846168518066</td>\n",
       "      <td>3.8461537361145</td>\n",
       "      <td>4.32692289352417</td>\n",
       "      <td>2.4038462638855</td>\n",
       "      <td>1.92307686805725</td>\n",
       "    </tr>\n",
       "    <tr>\n",
       "      <th>5</th>\n",
       "      <td>Afghanistan</td>\n",
       "      <td>Voice and Accountability: Percentile Rank</td>\n",
       "      <td>1</td>\n",
       "      <td>0.497512429952621</td>\n",
       "      <td>0.995024859905243</td>\n",
       "      <td>9.45273590087891</td>\n",
       "      <td>14.4278602600098</td>\n",
       "      <td>15.384614944458</td>\n",
       "      <td>14.9038457870483</td>\n",
       "      <td>17.7884616851807</td>\n",
       "      <td>...</td>\n",
       "      <td>14.0845069885254</td>\n",
       "      <td>14.5539903640747</td>\n",
       "      <td>16.2561569213867</td>\n",
       "      <td>18.7192115783691</td>\n",
       "      <td>20.6896553039551</td>\n",
       "      <td>22.1674880981445</td>\n",
       "      <td>20.2898559570313</td>\n",
       "      <td>21.2560386657715</td>\n",
       "      <td>19.8067626953125</td>\n",
       "      <td>7.24637699127197</td>\n",
       "    </tr>\n",
       "    <tr>\n",
       "      <th>6</th>\n",
       "      <td>Albania</td>\n",
       "      <td>Control of Corruption: Percentile Rank</td>\n",
       "      <td>19.3548393249512</td>\n",
       "      <td>18.1818180084229</td>\n",
       "      <td>23.9361705780029</td>\n",
       "      <td>24.3386249542236</td>\n",
       "      <td>22.7513236999512</td>\n",
       "      <td>27.5862064361572</td>\n",
       "      <td>22.9268283843994</td>\n",
       "      <td>22.9268283843994</td>\n",
       "      <td>...</td>\n",
       "      <td>25.1184825897217</td>\n",
       "      <td>24.1706161499023</td>\n",
       "      <td>34.1346168518066</td>\n",
       "      <td>37.5</td>\n",
       "      <td>37.980770111084</td>\n",
       "      <td>41.8269233703613</td>\n",
       "      <td>34.6153831481934</td>\n",
       "      <td>31.730770111084</td>\n",
       "      <td>31.730770111084</td>\n",
       "      <td>31.730770111084</td>\n",
       "    </tr>\n",
       "  </tbody>\n",
       "</table>\n",
       "<p>7 rows × 25 columns</p>\n",
       "</div>"
      ],
      "text/plain": [
       "  Country Name                                        Series Name  \\\n",
       "0  Afghanistan             Control of Corruption: Percentile Rank   \n",
       "1  Afghanistan          Government Effectiveness: Percentile Rank   \n",
       "2  Afghanistan  Political Stability and Absence of Violence/Te...   \n",
       "3  Afghanistan                Regulatory Quality: Percentile Rank   \n",
       "4  Afghanistan                       Rule of Law: Percentile Rank   \n",
       "5  Afghanistan          Voice and Accountability: Percentile Rank   \n",
       "6      Albania             Control of Corruption: Percentile Rank   \n",
       "\n",
       "            wgi1996            wgi1998            wgi2000           wgi2002  \\\n",
       "0  4.30107545852661   8.02138996124268   4.78723382949829   4.7619047164917   \n",
       "1                 0                  0                  0  2.16216206550598   \n",
       "2  2.12765955924988  0.531914889812469   0.52910053730011  1.58730161190033   \n",
       "3  1.63043475151062   2.17391300201416   1.63043475151062  2.16216206550598   \n",
       "4  1.50753772258759                  2   1.49253726005554  1.99004971981049   \n",
       "5                 1  0.497512429952621  0.995024859905243  9.45273590087891   \n",
       "6  19.3548393249512   18.1818180084229   23.9361705780029  24.3386249542236   \n",
       "\n",
       "            wgi2003           wgi2004           wgi2005            wgi2006  \\\n",
       "0   4.7619047164917  6.40394067764282  1.46341466903687   1.95121955871582   \n",
       "1  11.3513517379761  18.9054718017578  9.80392169952393   3.90243911743164   \n",
       "2  2.01005029678345  1.94174754619598  2.42718458175659   1.44927537441254   \n",
       "3  4.86486482620239  5.97014904022217  2.94117641448975   2.94117641448975   \n",
       "4  2.98507452011108   2.4038462638855  2.39234447479248  0.478468894958496   \n",
       "5  14.4278602600098   15.384614944458  14.9038457870483   17.7884616851807   \n",
       "6  22.7513236999512  27.5862064361572  22.9268283843994   22.9268283843994   \n",
       "\n",
       "   ...           wgi2012            wgi2013           wgi2014  \\\n",
       "0  ...  1.42180097103119  0.947867274284363  5.28846168518066   \n",
       "1  ...  5.68720388412476   5.68720388412476  7.21153831481934   \n",
       "2  ...  1.89573454856873   1.42180097103119  2.85714292526245   \n",
       "3  ...  10.4265403747559   10.4265403747559   11.057692527771   \n",
       "4  ...   1.4084507226944     1.877934217453  4.32692289352417   \n",
       "5  ...  14.0845069885254   14.5539903640747  16.2561569213867   \n",
       "6  ...  25.1184825897217   24.1706161499023  34.1346168518066   \n",
       "\n",
       "             wgi2015            wgi2016            wgi2017            wgi2018  \\\n",
       "0   5.76923084259033    3.8461537361145    3.8461537361145     4.807692527771   \n",
       "1   7.21153831481934   8.17307662963867   8.17307662963867     7.692307472229   \n",
       "2  0.952380955219269  0.952380955219269  0.476190477609634  0.471698105335236   \n",
       "3   14.9038457870483   7.21153831481934   7.21153831481934   10.5769233703613   \n",
       "4   4.32692289352417   5.76923084259033   5.28846168518066    3.8461537361145   \n",
       "5   18.7192115783691   20.6896553039551   22.1674880981445   20.2898559570313   \n",
       "6               37.5    37.980770111084   41.8269233703613   34.6153831481934   \n",
       "\n",
       "             wgi2019            wgi2020           wgi2021  \n",
       "0               6.25     4.807692527771              12.5  \n",
       "1   7.21153831481934   5.28846168518066  5.76923084259033  \n",
       "2  0.943396210670471  0.471698105335236  1.41509437561035  \n",
       "3   10.0961542129517   8.17307662963867  8.17307662963867  \n",
       "4   4.32692289352417    2.4038462638855  1.92307686805725  \n",
       "5   21.2560386657715   19.8067626953125  7.24637699127197  \n",
       "6    31.730770111084    31.730770111084   31.730770111084  \n",
       "\n",
       "[7 rows x 25 columns]"
      ]
     },
     "execution_count": 77,
     "metadata": {},
     "output_type": "execute_result"
    }
   ],
   "source": [
    "wb_wgi=pd.read_csv(\"WB WGI.csv\")\n",
    "\n",
    "# These columns have to go: 'Unnamed: 0' 'Unnamed: 1' 'Unnamed: 2' 'Unnamed: 3'\n",
    "drop_these = ['Country Code','Series Code'] # use list comprehension to create list of columns\n",
    "wb_wgi.drop(drop_these, axis=1, inplace=True) # axis = 1 -> columns, inplace=True -> changed, no copy made\n",
    "wb_wgi.head(5)\n",
    "\n",
    "col_dict = {}\n",
    "for i in range(1996, 2022): # range goes from 1996 to 2021\n",
    "    col_dict[str(i)+\" [YR\"+str(i)+\"]\"] = f'wgi{i}' \n",
    "col_dict\n",
    "\n",
    "wb_wgi.rename(columns = col_dict, inplace=True)\n",
    "wb_wgi.head(7)"
   ]
  },
  {
   "cell_type": "code",
   "execution_count": 79,
   "metadata": {},
   "outputs": [
    {
     "ename": "ValueError",
     "evalue": "stubname can't be identical to a column name",
     "output_type": "error",
     "traceback": [
      "\u001b[1;31m---------------------------------------------------------------------------\u001b[0m",
      "\u001b[1;31mValueError\u001b[0m                                Traceback (most recent call last)",
      "\u001b[1;32m~\\AppData\\Local\\Temp\\ipykernel_24844\\2880156760.py\u001b[0m in \u001b[0;36m<module>\u001b[1;34m\u001b[0m\n\u001b[1;32m----> 1\u001b[1;33m \u001b[0mwb_wgi\u001b[0m \u001b[1;33m=\u001b[0m \u001b[0mpd\u001b[0m\u001b[1;33m.\u001b[0m\u001b[0mwide_to_long\u001b[0m\u001b[1;33m(\u001b[0m\u001b[0mwb_wgi\u001b[0m\u001b[1;33m,\u001b[0m \u001b[0mstubnames\u001b[0m\u001b[1;33m=\u001b[0m\u001b[1;34m'wgi'\u001b[0m\u001b[1;33m,\u001b[0m \u001b[0mi\u001b[0m\u001b[1;33m=\u001b[0m\u001b[1;33m[\u001b[0m\u001b[1;34m'Country Name'\u001b[0m\u001b[1;33m,\u001b[0m\u001b[1;34m'Series Name'\u001b[0m\u001b[1;33m]\u001b[0m\u001b[1;33m,\u001b[0m \u001b[0mj\u001b[0m\u001b[1;33m=\u001b[0m\u001b[1;34m'year'\u001b[0m\u001b[1;33m)\u001b[0m\u001b[1;33m\u001b[0m\u001b[1;33m\u001b[0m\u001b[0m\n\u001b[0m\u001b[0;32m      2\u001b[0m \u001b[0mwb_wgi\u001b[0m\u001b[1;33m.\u001b[0m\u001b[0msample\u001b[0m\u001b[1;33m(\u001b[0m\u001b[1;36m10\u001b[0m\u001b[1;33m)\u001b[0m\u001b[1;33m\u001b[0m\u001b[1;33m\u001b[0m\u001b[0m\n",
      "\u001b[1;32mc:\\Users\\krist\\anaconda3\\lib\\site-packages\\pandas\\core\\reshape\\melt.py\u001b[0m in \u001b[0;36mwide_to_long\u001b[1;34m(df, stubnames, i, j, sep, suffix)\u001b[0m\n\u001b[0;32m    525\u001b[0m \u001b[1;33m\u001b[0m\u001b[0m\n\u001b[0;32m    526\u001b[0m     \u001b[1;32mif\u001b[0m \u001b[0many\u001b[0m\u001b[1;33m(\u001b[0m\u001b[0mcol\u001b[0m \u001b[1;32min\u001b[0m \u001b[0mstubnames\u001b[0m \u001b[1;32mfor\u001b[0m \u001b[0mcol\u001b[0m \u001b[1;32min\u001b[0m \u001b[0mdf\u001b[0m\u001b[1;33m.\u001b[0m\u001b[0mcolumns\u001b[0m\u001b[1;33m)\u001b[0m\u001b[1;33m:\u001b[0m\u001b[1;33m\u001b[0m\u001b[1;33m\u001b[0m\u001b[0m\n\u001b[1;32m--> 527\u001b[1;33m         \u001b[1;32mraise\u001b[0m \u001b[0mValueError\u001b[0m\u001b[1;33m(\u001b[0m\u001b[1;34m\"stubname can't be identical to a column name\"\u001b[0m\u001b[1;33m)\u001b[0m\u001b[1;33m\u001b[0m\u001b[1;33m\u001b[0m\u001b[0m\n\u001b[0m\u001b[0;32m    528\u001b[0m \u001b[1;33m\u001b[0m\u001b[0m\n\u001b[0;32m    529\u001b[0m     \u001b[1;32mif\u001b[0m \u001b[1;32mnot\u001b[0m \u001b[0mis_list_like\u001b[0m\u001b[1;33m(\u001b[0m\u001b[0mi\u001b[0m\u001b[1;33m)\u001b[0m\u001b[1;33m:\u001b[0m\u001b[1;33m\u001b[0m\u001b[1;33m\u001b[0m\u001b[0m\n",
      "\u001b[1;31mValueError\u001b[0m: stubname can't be identical to a column name"
     ]
    }
   ],
   "source": [
    "wb_wgi = pd.wide_to_long(wb_wgi, stubnames='wgi', i=['Country Name','Series Name'], j='year')\n",
    "wb_wgi.sample(10)"
   ]
  },
  {
   "cell_type": "code",
   "execution_count": 65,
   "metadata": {},
   "outputs": [
    {
     "ename": "NameError",
     "evalue": "name 'I' is not defined",
     "output_type": "error",
     "traceback": [
      "\u001b[1;31m---------------------------------------------------------------------------\u001b[0m",
      "\u001b[1;31mNameError\u001b[0m                                 Traceback (most recent call last)",
      "\u001b[1;32m~\\AppData\\Local\\Temp\\ipykernel_24844\\2076340312.py\u001b[0m in \u001b[0;36m<module>\u001b[1;34m\u001b[0m\n\u001b[0;32m      1\u001b[0m \u001b[1;31m# Build up a logical index I\u001b[0m\u001b[1;33m\u001b[0m\u001b[1;33m\u001b[0m\u001b[0m\n\u001b[1;32m----> 2\u001b[1;33m \u001b[0mI\u001b[0m\u001b[1;33m\u001b[0m\u001b[1;33m\u001b[0m\u001b[0m\n\u001b[0m\u001b[0;32m      3\u001b[0m \u001b[1;32mfor\u001b[0m \u001b[0mi\u001b[0m \u001b[1;32min\u001b[0m \u001b[0mrange\u001b[0m\u001b[1;33m(\u001b[0m\u001b[1;36m1990\u001b[0m\u001b[1;33m,\u001b[0m\u001b[1;36m2022\u001b[0m\u001b[1;33m)\u001b[0m\u001b[1;33m:\u001b[0m\u001b[1;33m\u001b[0m\u001b[1;33m\u001b[0m\u001b[0m\n\u001b[0;32m      4\u001b[0m     \u001b[0mI\u001b[0m\u001b[1;33m=\u001b[0m\u001b[0mwb_wgi\u001b[0m\u001b[1;33m.\u001b[0m\u001b[0mi\u001b[0m\u001b[1;33m.\u001b[0m\u001b[0mstr\u001b[0m\u001b[1;33m.\u001b[0m\u001b[0mcontains\u001b[0m\u001b[1;33m(\u001b[0m\u001b[1;34m\"..\"\u001b[0m\u001b[1;33m)\u001b[0m\u001b[1;33m\u001b[0m\u001b[1;33m\u001b[0m\u001b[0m\n\u001b[0;32m      5\u001b[0m \u001b[0mI\u001b[0m\u001b[1;33m\u001b[0m\u001b[1;33m\u001b[0m\u001b[0m\n",
      "\u001b[1;31mNameError\u001b[0m: name 'I' is not defined"
     ]
    }
   ],
   "source": [
    "# Build up a logical index I\n",
    "I\n",
    "for i in range(1990,2022):\n",
    "    I=wb_wgi.i.str.contains(\"..\")\n",
    "I\n",
    "I = wb_wgi.municipality.str.contains('Region')\n",
    "I |= wb_wgi.municipality.str.contains('Province')\n",
    "I |= wb_wgi.municipality.str.contains('All Denmark')\n",
    "empl.loc[I, :]"
   ]
  },
  {
   "cell_type": "markdown",
   "metadata": {},
   "source": [
    "Import your data, either through an API or manually, and load it. "
   ]
  },
  {
   "cell_type": "markdown",
   "metadata": {},
   "source": [
    "## Explore each data set"
   ]
  },
  {
   "cell_type": "markdown",
   "metadata": {},
   "source": [
    "In order to be able to **explore the raw data**, you may provide **static** and **interactive plots** to show important developments "
   ]
  },
  {
   "cell_type": "markdown",
   "metadata": {},
   "source": [
    "**Interactive plot** :"
   ]
  },
  {
   "cell_type": "code",
   "execution_count": null,
   "metadata": {},
   "outputs": [],
   "source": [
    "def plot_func():\n",
    "    # Function that operates on data set\n",
    "    pass\n",
    "\n",
    "widgets.interact(plot_func, \n",
    "    # Let the widget interact with data through plot_func()    \n",
    "); \n"
   ]
  },
  {
   "cell_type": "markdown",
   "metadata": {},
   "source": [
    "Explain what you see when moving elements of the interactive plot around. "
   ]
  },
  {
   "cell_type": "markdown",
   "metadata": {},
   "source": [
    "# Merge data sets"
   ]
  },
  {
   "cell_type": "markdown",
   "metadata": {},
   "source": [
    "Now you create combinations of your loaded data sets. Remember the illustration of a (inner) **merge**:"
   ]
  },
  {
   "cell_type": "code",
   "execution_count": null,
   "metadata": {},
   "outputs": [],
   "source": [
    "plt.figure(figsize=(15,7))\n",
    "v = venn2(subsets = (4, 4, 10), set_labels = ('Data X', 'Data Y'))\n",
    "v.get_label_by_id('100').set_text('dropped')\n",
    "v.get_label_by_id('010').set_text('dropped' )\n",
    "v.get_label_by_id('110').set_text('included')\n",
    "plt.show()"
   ]
  },
  {
   "cell_type": "markdown",
   "metadata": {},
   "source": [
    "Here we are dropping elements from both data set X and data set Y. A left join would keep all observations in data X intact and subset only from Y. \n",
    "\n",
    "Make sure that your resulting data sets have the correct number of rows and columns. That is, be clear about which observations are thrown away. \n",
    "\n",
    "**Note:** Don't make Venn diagrams in your own data project. It is just for exposition. "
   ]
  },
  {
   "cell_type": "markdown",
   "metadata": {},
   "source": [
    "# Analysis"
   ]
  },
  {
   "cell_type": "markdown",
   "metadata": {},
   "source": [
    "To get a quick overview of the data, we show some **summary statistics** on a meaningful aggregation. "
   ]
  },
  {
   "cell_type": "markdown",
   "metadata": {},
   "source": [
    "MAKE FURTHER ANALYSIS. EXPLAIN THE CODE BRIEFLY AND SUMMARIZE THE RESULTS."
   ]
  },
  {
   "cell_type": "markdown",
   "metadata": {},
   "source": [
    "# Conclusion"
   ]
  },
  {
   "cell_type": "markdown",
   "metadata": {},
   "source": [
    "ADD CONCISE CONLUSION."
   ]
  }
 ],
 "metadata": {
  "kernelspec": {
   "display_name": "base",
   "language": "python",
   "name": "python3"
  },
  "language_info": {
   "codemirror_mode": {
    "name": "ipython",
    "version": 3
   },
   "file_extension": ".py",
   "mimetype": "text/x-python",
   "name": "python",
   "nbconvert_exporter": "python",
   "pygments_lexer": "ipython3",
   "version": "3.9.16"
  },
  "toc-autonumbering": true,
  "vscode": {
   "interpreter": {
    "hash": "47ef90cdf3004d3f859f1fb202523c65c07ba7c22eefd261b181f4744e2d0403"
   }
  }
 },
 "nbformat": 4,
 "nbformat_minor": 4
}
