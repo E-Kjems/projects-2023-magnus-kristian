{
 "cells": [
  {
   "cell_type": "markdown",
   "metadata": {},
   "source": [
    "# YOUR PROJECT TITLE"
   ]
  },
  {
   "cell_type": "markdown",
   "metadata": {},
   "source": [
    "Vi skal: \n",
    "\n",
    "1. ændre percentiler til niveauer, og lav standardisering\n",
    "\n",
    "2. forklar BNP og ulighed på baggrund af governance. \n",
    "    - lag governance evt. 10 år.\n",
    "\n",
    "3. Find varians i BNP og forklar på baggrund af (lagged værdi af) governance\n",
    "\n",
    "4. Figurer... evt: \n",
    "    - Scatterplot over vækst ift. ulighed. \n",
    "    - andet?"
   ]
  },
  {
   "cell_type": "markdown",
   "metadata": {},
   "source": [
    "Imports and set magics:"
   ]
  },
  {
   "cell_type": "code",
   "execution_count": null,
   "metadata": {},
   "outputs": [],
   "source": [
    "import pandas as pd\n",
    "import numpy as np\n",
    "import matplotlib.pyplot as plt\n",
    "import ipywidgets as widgets\n",
    "from pandas_datareader import wb\n",
    "\n",
    "# autoreload modules when code is run\n",
    "%load_ext autoreload\n",
    "%autoreload 2\n",
    "\n",
    "# user written modules\n",
    "from dataproject import my_wb_downloader\n"
   ]
  },
  {
   "cell_type": "markdown",
   "metadata": {},
   "source": [
    "# Read and clean data"
   ]
  },
  {
   "cell_type": "code",
   "execution_count": null,
   "metadata": {},
   "outputs": [],
   "source": [
    "# Get World Bank Data, all countries, 1990-2017\n",
    "# - GDP\n",
    "# - GINI\n",
    "\n",
    "# List of variables to rename\n",
    "wb_variables_with_new_names = {'SI.POV.GINI'   :'GINI',\n",
    "                               'NY.GDP.PCAP.KD':'GDP'}\n",
    "\n",
    "# Download and clean data\n",
    "wb1 = my_wb_downloader('all', wb_variables_with_new_names, 1990, 2017)\n",
    "\n",
    "# Print data\n",
    "wb1.head(5)\n"
   ]
  },
  {
   "cell_type": "code",
   "execution_count": null,
   "metadata": {},
   "outputs": [],
   "source": [
    "wb_wgi=pd.read_csv(\"WB WGI.csv\")\n",
    "\n",
    "# These columns have to go: 'Unnamed: 0' 'Unnamed: 1' 'Unnamed: 2' 'Unnamed: 3'\n",
    "drop_these = ['Country Code','Series Code'] # use list comprehension to create list of columns\n",
    "wb_wgi.drop(drop_these, axis=1, inplace=True) # axis = 1 -> columns, inplace=True -> changed, no copy made\n",
    "wb_wgi.head(5)\n",
    "\n",
    "col_dict = {}\n",
    "for i in range(1996, 2022): # range goes from 1996 to 2021\n",
    "    col_dict[str(i)+\" [YR\"+str(i)+\"]\"] = f'wgi{i}' \n",
    "col_dict\n",
    "\n",
    "wb_wgi.rename(columns = col_dict, inplace=True)\n",
    "wb_wgi.rename (columns ={'Country Name': 'country'}, inplace=True)\n",
    "wb_wgi.sample(10)"
   ]
  },
  {
   "cell_type": "code",
   "execution_count": null,
   "metadata": {},
   "outputs": [],
   "source": [
    "wb_wgi = pd.wide_to_long(wb_wgi, stubnames='wgi', i=['country','Series Name'], j='year')\n",
    "wb_wgi = wb_wgi.reset_index()\n",
    "# Rename colum with series names to \"ser\"\n",
    "wb_wgi.rename(columns = {'Series Name':'ser'}, inplace=True)\n",
    "\n",
    "#Get a list of all the series in the data\n",
    "namelist = wb_wgi.ser.unique()\n",
    "\n",
    "newnames = {'Control of Corruption: Percentile Rank':'COC',\n",
    "            'Government Effectiveness: Percentile Rank':'GOV', \n",
    "            'Political Stability and Absence of Violence/Terrorism: Percentile Rank':'RSA', \n",
    "            'Regulatory Quality: Percentile Rank':'REQ', \n",
    "            'Rule of Law: Percentile Rank':'ROL', \n",
    "            'Voice and Accountability: Percentile Rank':'VOA'}\n",
    "\n",
    "# Renames series\n",
    "for index, name in enumerate(namelist):\n",
    "    print(index, \"Now rename Series\", name, \"=\", newnames[name])\n",
    "    \n",
    "    wb_wgi.loc[wb_wgi.ser == name, 'ser'] = newnames[name]\n",
    "\n",
    "newnamelist = wb_wgi.ser.unique()\n",
    "\n",
    "wb_wgi.sample(5)"
   ]
  },
  {
   "cell_type": "code",
   "execution_count": null,
   "metadata": {},
   "outputs": [],
   "source": [
    "wb_new=pd.pivot(wb_wgi, index=['country','year'], columns = 'ser', values= 'wgi')\n",
    "wb_new=wb_new.reset_index()\n",
    "final = pd.merge(wb, wb_new, on=['year', 'country'], how = 'outer')"
   ]
  },
  {
   "cell_type": "code",
   "execution_count": null,
   "metadata": {},
   "outputs": [],
   "source": [
    "col_list = ['COC', 'GOV', 'REQ', 'ROL', 'RSA', 'VOA']\n",
    "for i in col_list:\n",
    "    final.loc[final[i]==\"..\"] = np.nan\n",
    "    final[i]=final[i].astype(float)\n",
    "final.info()\n",
    "final"
   ]
  },
  {
   "cell_type": "markdown",
   "metadata": {},
   "source": [
    "#given variabel: træk gennemsnittet fra og divider med standardafvigelsen"
   ]
  },
  {
   "cell_type": "markdown",
   "metadata": {},
   "source": [
    "Import your data, either through an API or manually, and load it. "
   ]
  },
  {
   "cell_type": "markdown",
   "metadata": {},
   "source": [
    "## Explore each data set"
   ]
  },
  {
   "cell_type": "markdown",
   "metadata": {},
   "source": [
    "In order to be able to **explore the raw data**, you may provide **static** and **interactive plots** to show important developments "
   ]
  },
  {
   "cell_type": "markdown",
   "metadata": {},
   "source": [
    "**Interactive plot** :"
   ]
  },
  {
   "cell_type": "code",
   "execution_count": null,
   "metadata": {},
   "outputs": [],
   "source": [
    "def plot_func():\n",
    "    # Function that operates on data set\n",
    "    pass\n",
    "\n",
    "widgets.interact(plot_func, \n",
    "    # Let the widget interact with data through plot_func()    \n",
    "); \n"
   ]
  },
  {
   "cell_type": "markdown",
   "metadata": {},
   "source": [
    "Explain what you see when moving elements of the interactive plot around. "
   ]
  },
  {
   "cell_type": "markdown",
   "metadata": {},
   "source": [
    "# Merge data sets"
   ]
  },
  {
   "cell_type": "markdown",
   "metadata": {},
   "source": [
    "Now you create combinations of your loaded data sets. Remember the illustration of a (inner) **merge**:"
   ]
  },
  {
   "cell_type": "code",
   "execution_count": null,
   "metadata": {},
   "outputs": [],
   "source": [
    "plt.figure(figsize=(15,7))\n",
    "v = venn2(subsets = (4, 4, 10), set_labels = ('Data X', 'Data Y'))\n",
    "v.get_label_by_id('100').set_text('dropped')\n",
    "v.get_label_by_id('010').set_text('dropped' )\n",
    "v.get_label_by_id('110').set_text('included')\n",
    "plt.show()"
   ]
  },
  {
   "cell_type": "markdown",
   "metadata": {},
   "source": [
    "Here we are dropping elements from both data set X and data set Y. A left join would keep all observations in data X intact and subset only from Y. \n",
    "\n",
    "Make sure that your resulting data sets have the correct number of rows and columns. That is, be clear about which observations are thrown away. \n",
    "\n",
    "**Note:** Don't make Venn diagrams in your own data project. It is just for exposition. "
   ]
  },
  {
   "cell_type": "markdown",
   "metadata": {},
   "source": [
    "# Analysis"
   ]
  },
  {
   "cell_type": "markdown",
   "metadata": {},
   "source": [
    "To get a quick overview of the data, we show some **summary statistics** on a meaningful aggregation. "
   ]
  },
  {
   "cell_type": "markdown",
   "metadata": {},
   "source": [
    "MAKE FURTHER ANALYSIS. EXPLAIN THE CODE BRIEFLY AND SUMMARIZE THE RESULTS."
   ]
  },
  {
   "cell_type": "markdown",
   "metadata": {},
   "source": [
    "# Conclusion"
   ]
  },
  {
   "cell_type": "markdown",
   "metadata": {},
   "source": [
    "ADD CONCISE CONLUSION."
   ]
  }
 ],
 "metadata": {
  "kernelspec": {
   "display_name": "base",
   "language": "python",
   "name": "python3"
  },
  "language_info": {
   "codemirror_mode": {
    "name": "ipython",
    "version": 3
   },
   "file_extension": ".py",
   "mimetype": "text/x-python",
   "name": "python",
   "nbconvert_exporter": "python",
   "pygments_lexer": "ipython3",
   "version": "3.9.16"
  },
  "toc-autonumbering": true,
  "vscode": {
   "interpreter": {
    "hash": "47ef90cdf3004d3f859f1fb202523c65c07ba7c22eefd261b181f4744e2d0403"
   }
  }
 },
 "nbformat": 4,
 "nbformat_minor": 4
}
