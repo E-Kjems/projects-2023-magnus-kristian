{
 "cells": [
  {
   "cell_type": "markdown",
   "metadata": {},
   "source": [
    "# Inaugural Project"
   ]
  },
  {
   "attachments": {},
   "cell_type": "markdown",
   "metadata": {},
   "source": [
    "> **Note the following:** \n",
    "> 1. This is an example of how to structure your **inaugural project**.\n",
    "> 1. Remember the general advice on structuring and commenting your code\n",
    "> 1. The `inauguralproject.py` file includes a function which can be used multiple times in this notebook."
   ]
  },
  {
   "cell_type": "markdown",
   "metadata": {},
   "source": [
    "Imports and set magics:"
   ]
  },
  {
   "cell_type": "code",
   "execution_count": 20,
   "metadata": {},
   "outputs": [
    {
     "name": "stdout",
     "output_type": "stream",
     "text": [
      "The autoreload extension is already loaded. To reload it, use:\n",
      "  %reload_ext autoreload\n"
     ]
    }
   ],
   "source": [
    "import numpy as np\n",
    "import pandas as pd\n",
    "import matplotlib.pyplot as plt # baseline module\n",
    "\n",
    "# Predefine options for all plots\n",
    "plt.rcParams.update({\"axes.grid\":True,\"grid.color\":\"black\",\"grid.alpha\":\"0.25\",\"grid.linestyle\":\"-\"})\n",
    "plt.rcParams.update({'font.size': 14})\n",
    "\n",
    "# autoreload modules when code is run. Otherwise, python will not see recent changes. \n",
    "%load_ext autoreload\n",
    "%autoreload 2\n",
    "\n",
    "# Import your own code\n",
    "from ConsumerProblem import HouseholdSpecializationModelClass\n"
   ]
  },
  {
   "cell_type": "markdown",
   "metadata": {},
   "source": [
    "# Question 1"
   ]
  },
  {
   "cell_type": "markdown",
   "metadata": {},
   "source": [
    "**Explain how you solve the model**"
   ]
  },
  {
   "attachments": {},
   "cell_type": "markdown",
   "metadata": {},
   "source": [
    "Insert explanation:\n"
   ]
  },
  {
   "cell_type": "code",
   "execution_count": 16,
   "metadata": {},
   "outputs": [
    {
     "name": "stderr",
     "output_type": "stream",
     "text": [
      "c:\\Users\\krist\\OneDrive - Københavns Universitet\\8. semester\\Introduction to programming and numerical analysis\\projects-2023-magnus-kristian\\inauguralproject\\ConsumerProblem.py:59: RuntimeWarning: divide by zero encountered in reciprocal\n",
      "  H=((1-par.alpha)*HM**((par.sigma-1)/par.sigma)+par.alpha*HF**((par.sigma-1)/par.sigma))**(par.sigma/(par.sigma-1))\n"
     ]
    },
    {
     "data": {
      "text/html": [
       "<div>\n",
       "<style scoped>\n",
       "    .dataframe tbody tr th:only-of-type {\n",
       "        vertical-align: middle;\n",
       "    }\n",
       "\n",
       "    .dataframe tbody tr th {\n",
       "        vertical-align: top;\n",
       "    }\n",
       "\n",
       "    .dataframe thead th {\n",
       "        text-align: right;\n",
       "    }\n",
       "</style>\n",
       "<table border=\"1\" class=\"dataframe\">\n",
       "  <thead>\n",
       "    <tr style=\"text-align: right;\">\n",
       "      <th></th>\n",
       "      <th>alpha</th>\n",
       "      <th>sigma</th>\n",
       "      <th>HF</th>\n",
       "      <th>HM</th>\n",
       "      <th>HF/HM</th>\n",
       "    </tr>\n",
       "  </thead>\n",
       "  <tbody>\n",
       "    <tr>\n",
       "      <th>0</th>\n",
       "      <td>0.25</td>\n",
       "      <td>0.5</td>\n",
       "      <td>3.0</td>\n",
       "      <td>5.5</td>\n",
       "      <td>0.55</td>\n",
       "    </tr>\n",
       "    <tr>\n",
       "      <th>1</th>\n",
       "      <td>0.25</td>\n",
       "      <td>1.0</td>\n",
       "      <td>2.0</td>\n",
       "      <td>6.5</td>\n",
       "      <td>0.31</td>\n",
       "    </tr>\n",
       "    <tr>\n",
       "      <th>2</th>\n",
       "      <td>0.25</td>\n",
       "      <td>1.5</td>\n",
       "      <td>1.5</td>\n",
       "      <td>7.0</td>\n",
       "      <td>0.21</td>\n",
       "    </tr>\n",
       "    <tr>\n",
       "      <th>3</th>\n",
       "      <td>0.50</td>\n",
       "      <td>0.5</td>\n",
       "      <td>4.5</td>\n",
       "      <td>4.5</td>\n",
       "      <td>1.00</td>\n",
       "    </tr>\n",
       "    <tr>\n",
       "      <th>4</th>\n",
       "      <td>0.50</td>\n",
       "      <td>1.0</td>\n",
       "      <td>4.5</td>\n",
       "      <td>4.5</td>\n",
       "      <td>1.00</td>\n",
       "    </tr>\n",
       "    <tr>\n",
       "      <th>5</th>\n",
       "      <td>0.50</td>\n",
       "      <td>1.5</td>\n",
       "      <td>4.5</td>\n",
       "      <td>4.5</td>\n",
       "      <td>1.00</td>\n",
       "    </tr>\n",
       "    <tr>\n",
       "      <th>6</th>\n",
       "      <td>0.75</td>\n",
       "      <td>0.5</td>\n",
       "      <td>5.5</td>\n",
       "      <td>3.0</td>\n",
       "      <td>1.83</td>\n",
       "    </tr>\n",
       "    <tr>\n",
       "      <th>7</th>\n",
       "      <td>0.75</td>\n",
       "      <td>1.0</td>\n",
       "      <td>6.5</td>\n",
       "      <td>2.0</td>\n",
       "      <td>3.25</td>\n",
       "    </tr>\n",
       "    <tr>\n",
       "      <th>8</th>\n",
       "      <td>0.75</td>\n",
       "      <td>1.5</td>\n",
       "      <td>7.0</td>\n",
       "      <td>1.5</td>\n",
       "      <td>4.67</td>\n",
       "    </tr>\n",
       "  </tbody>\n",
       "</table>\n",
       "</div>"
      ],
      "text/plain": [
       "   alpha  sigma   HF   HM HF/HM\n",
       "0   0.25    0.5  3.0  5.5  0.55\n",
       "1   0.25    1.0  2.0  6.5  0.31\n",
       "2   0.25    1.5  1.5  7.0  0.21\n",
       "3   0.50    0.5  4.5  4.5  1.00\n",
       "4   0.50    1.0  4.5  4.5  1.00\n",
       "5   0.50    1.5  4.5  4.5  1.00\n",
       "6   0.75    0.5  5.5  3.0  1.83\n",
       "7   0.75    1.0  6.5  2.0  3.25\n",
       "8   0.75    1.5  7.0  1.5  4.67"
      ]
     },
     "execution_count": 16,
     "metadata": {},
     "output_type": "execute_result"
    }
   ],
   "source": [
    "alpha_list = [0.25, 0.50, 0.75]\n",
    "sigma_list = [0.5, 1.0, 1.5]\n",
    "\n",
    "Household = HouseholdSpecializationModelClass()\n",
    "alpha_list2 = []\n",
    "sigma_list2 = []\n",
    "HF_list = []\n",
    "HM_list = []\n",
    "HF_HM_list = []\n",
    "#c. main\n",
    "for i_alpha,alpha in enumerate(alpha_list):\n",
    "    for i_sigma,sigma in enumerate(sigma_list):\n",
    "            Household.par.alpha = alpha\n",
    "            Household.par.sigma = sigma\n",
    "            result = Household.solve_discrete()\n",
    "        \n",
    "            #res_list.append(result.HF/result.HM)\n",
    "            alpha_list2.append(alpha)\n",
    "            sigma_list2.append(sigma)\n",
    "            HF_list.append(result.HF)\n",
    "            HM_list.append(result.HM)\n",
    "            HF_HM_list.append(result.HF/result.HM)\n",
    "#Generer dataframe df\n",
    "\n",
    "df= pd.DataFrame().from_dict({'alpha':alpha_list2,'sigma':sigma_list2,'HF':HF_list,'HM':HM_list,'HF/HM':HF_HM_list})\n",
    "df['HF/HM'] = df['HF/HM'].apply(lambda x: f'{x:2.2f}') \n",
    "df"
   ]
  },
  {
   "cell_type": "markdown",
   "metadata": {},
   "source": [
    "# Question 2"
   ]
  },
  {
   "cell_type": "markdown",
   "metadata": {},
   "source": [
    "Explain your code and procedure"
   ]
  },
  {
   "cell_type": "code",
   "execution_count": 42,
   "metadata": {},
   "outputs": [
    {
     "data": {
      "image/png": "[encoded data removed]",
      "text/plain": [
       "<Figure size 640x480 with 1 Axes>"
      ]
     },
     "metadata": {},
     "output_type": "display_data"
    }
   ],
   "source": [
    "log_HF_HM_list = []\n",
    "log_wF_wM_list = []\n",
    "Household = HouseholdSpecializationModelClass()\n",
    "#c. main\n",
    "for wF in Household.par.wF_vec:\n",
    "            Household.par.wF = wF\n",
    "            result = Household.solve_discrete()\n",
    "            log_HF_HM_list.append(np.log(result.HF/result.HM))\n",
    "            log_wF_wM_list.append(np.log(Household.par.wF/Household.par.wM))\n",
    "\n",
    "# a. create the figure\n",
    "fig = plt.figure()\n",
    "\n",
    "# b. plot\n",
    "ax = fig.add_subplot(1,1,1)\n",
    "\n",
    "ax.plot(log_wF_wM_list,log_HF_HM_list)\n",
    "\n",
    "ax.set_title('Relative home production to relative income')\n",
    "ax.set_xlabel(r'$log(\\frac{w_F}{w_M})$', fontsize=16)\n",
    "ax.set_ylabel(r'$log(\\frac{H_F}{w_M})$', fontsize=16);"
   ]
  },
  {
   "cell_type": "code",
   "execution_count": null,
   "metadata": {},
   "outputs": [],
   "source": [
    "# a. create the figure\n",
    "fig = plt.figure()\n",
    "\n",
    "# b. \n",
    "ax = fig.add_subplot(1,1,1)\n",
    "\n",
    "\n",
    "\n",
    "n = 10\n",
    "for x2 in range(1,n):\n",
    "    u_vec_x2 = u_func(x1_vec,x2)\n",
    "    ax.plot(x1_vec,u_vec_x2,label='$x_{2}=$'+str(x2),c=(0.,0.1,x2/n)) # c is the color, the argument is the color in rgb format (in percentages of 255)\n",
    "\n",
    "ax.set_title('Value of choice, $u(x_1,x_2)$')\n",
    "ax.set_xlabel('$x_1$')\n",
    "ax.set_ylabel('$u(x_1,x_2)$')\n",
    "ax.legend(loc='upper left',prop={'size':9}); # Activate legend (uses the labels in ax.plot())\n"
   ]
  },
  {
   "cell_type": "markdown",
   "metadata": {},
   "source": [
    "# Question 3"
   ]
  },
  {
   "cell_type": "markdown",
   "metadata": {},
   "source": [
    "Explain your code and procedure"
   ]
  },
  {
   "cell_type": "code",
   "execution_count": null,
   "metadata": {},
   "outputs": [],
   "source": [
    "# code"
   ]
  },
  {
   "cell_type": "markdown",
   "metadata": {},
   "source": [
    "ADD CONCISE CONLUSION."
   ]
  }
 ],
 "metadata": {
  "kernelspec": {
   "display_name": "base",
   "language": "python",
   "name": "python3"
  },
  "language_info": {
   "codemirror_mode": {
    "name": "ipython",
    "version": 3
   },
   "file_extension": ".py",
   "mimetype": "text/x-python",
   "name": "python",
   "nbconvert_exporter": "python",
   "pygments_lexer": "ipython3",
   "version": "3.9.16"
  },
  "toc-autonumbering": true,
  "vscode": {
   "interpreter": {
    "hash": "47ef90cdf3004d3f859f1fb202523c65c07ba7c22eefd261b181f4744e2d0403"
   }
  }
 },
 "nbformat": 4,
 "nbformat_minor": 4
}
