{
 "cells": [
  {
   "cell_type": "markdown",
   "metadata": {},
   "source": [
    "# Inaugural Project"
   ]
  },
  {
   "attachments": {},
   "cell_type": "markdown",
   "metadata": {},
   "source": [
    "> **Note the following:** \n",
    "> 1. This is an example of how to structure your **inaugural project**.\n",
    "> 1. Remember the general advice on structuring and commenting your code\n",
    "> 1. The `inauguralproject.py` file includes a function which can be used multiple times in this notebook."
   ]
  },
  {
   "cell_type": "markdown",
   "metadata": {},
   "source": [
    "Imports and set magics:"
   ]
  },
  {
   "cell_type": "code",
   "execution_count": 2,
   "metadata": {},
   "outputs": [],
   "source": [
    "import numpy as np\n",
    "\n",
    "# autoreload modules when code is run. Otherwise, python will not see recent changes. \n",
    "%load_ext autoreload\n",
    "%autoreload 2\n",
    "\n",
    "# Import your own code\n",
    "from ConsumerProblem import HouseholdSpecializationModelClass\n"
   ]
  },
  {
   "cell_type": "markdown",
   "metadata": {},
   "source": [
    "# Question 1"
   ]
  },
  {
   "cell_type": "markdown",
   "metadata": {},
   "source": [
    "**Explain how you solve the model**"
   ]
  },
  {
   "cell_type": "code",
   "execution_count": null,
   "metadata": {},
   "outputs": [],
   "source": [
    "alpha_list=[0.5]\n",
    "sigma_list=[1]\n",
    "\n",
    "HH = HouseholdSpecializationModelClass()\n",
    "\n",
    "HH.par.alpha = alpha_list\n",
    "HH.par.sigma = sigma_list\n",
    "result = HH.solve_discrete()\n",
    "\n",
    "print(result.HF/result.HM,HH.par.alpha,HH.par.sigma)\n",
    "\n"
   ]
  },
  {
   "cell_type": "code",
   "execution_count": 5,
   "metadata": {},
   "outputs": [
    {
     "name": "stdout",
     "output_type": "stream",
     "text": [
      "3.0 5.5 0.25 0.5\n",
      "0.5454545454545454\n",
      "2.0 6.5 0.25 1.0\n",
      "0.3076923076923077\n",
      "1.5 7.0 0.25 1.5\n",
      "0.21428571428571427\n",
      "4.5 4.5 0.5 0.5\n",
      "1.0\n",
      "4.5 4.5 0.5 1.0\n",
      "1.0\n",
      "4.5 4.5 0.5 1.5\n",
      "1.0\n",
      "5.5 3.0 0.75 0.5\n",
      "1.8333333333333333\n",
      "6.5 2.0 0.75 1.0\n",
      "3.25\n",
      "7.0 1.5 0.75 1.5\n",
      "4.666666666666667\n",
      "[]\n"
     ]
    }
   ],
   "source": [
    "# code for solving the model (remember documentation and comments)\n",
    "#Household = HouseholdSpecializationModelClass()\n",
    "\n",
    "alpha_list = [0.25, 0.50, 0.75]\n",
    "sigma_list = [0.5, 1.0, 1.5]\n",
    "\n",
    "Household = HouseholdSpecializationModelClass()\n",
    "\n",
    "res_list = []\n",
    "#c. main\n",
    "for i_alpha,alpha in enumerate(alpha_list):\n",
    "    for i_sigma,sigma in enumerate(sigma_list):\n",
    "            Household.par.alpha = alpha\n",
    "            Household.par.sigma = sigma\n",
    "            result = Household.solve_discrete()\n",
    "        \n",
    "            #res_list.append(result.HF/result.HM)\n",
    "            print(result.HF,result.HM,alpha,sigma)\n",
    "            print(result.HF/result.HM)\n",
    "\n",
    "print(res_list)"
   ]
  },
  {
   "cell_type": "code",
   "execution_count": null,
   "metadata": {},
   "outputs": [],
   "source": [
    "par_alpha=0.5\n",
    "par_sigma=1.5\n",
    "HM=2212\n",
    "HF=1012\n",
    "\n",
    "a=(1-par_alpha)*HM**((par_sigma-1)/par_sigma)\n",
    "b=par_alpha*HF**((par_sigma-1)/par_sigma)\n",
    "print(a)\n",
    "print(b)\n",
    "c=par_sigma/(par_sigma-1)\n",
    "print(c)\n",
    "d=(a+b)**c\n",
    "print(d)\n",
    "\n",
    "H=((1-par_alpha)*HM**((par_sigma-1)/par_sigma)+par_alpha*HF**((par_sigma-1)/par_sigma))**(par_sigma/(par_sigma-1))\n",
    "print(H)"
   ]
  },
  {
   "cell_type": "code",
   "execution_count": null,
   "metadata": {},
   "outputs": [],
   "source": [
    "alpha = .5\n",
    "sigma = .25\n",
    "Household.par.alpha = alpha\n",
    "Household.par.alpha = sigma\n",
    "result = Household.solve_discrete()\n",
    "HF_HM= result.HF/result.HM\n"
   ]
  },
  {
   "cell_type": "code",
   "execution_count": null,
   "metadata": {},
   "outputs": [],
   "source": [
    "HF_HM= result.HF/result.HM\n",
    "f\n"
   ]
  },
  {
   "cell_type": "markdown",
   "metadata": {},
   "source": [
    "# Question 2"
   ]
  },
  {
   "cell_type": "markdown",
   "metadata": {},
   "source": [
    "Explain your code and procedure"
   ]
  },
  {
   "cell_type": "code",
   "execution_count": null,
   "metadata": {},
   "outputs": [],
   "source": [
    "# code"
   ]
  },
  {
   "cell_type": "markdown",
   "metadata": {},
   "source": [
    "# Question 3"
   ]
  },
  {
   "cell_type": "markdown",
   "metadata": {},
   "source": [
    "Explain your code and procedure"
   ]
  },
  {
   "cell_type": "code",
   "execution_count": null,
   "metadata": {},
   "outputs": [],
   "source": [
    "# code"
   ]
  },
  {
   "cell_type": "markdown",
   "metadata": {},
   "source": [
    "ADD CONCISE CONLUSION."
   ]
  }
 ],
 "metadata": {
  "kernelspec": {
   "display_name": "base",
   "language": "python",
   "name": "python3"
  },
  "language_info": {
   "codemirror_mode": {
    "name": "ipython",
    "version": 3
   },
   "file_extension": ".py",
   "mimetype": "text/x-python",
   "name": "python",
   "nbconvert_exporter": "python",
   "pygments_lexer": "ipython3",
   "version": "3.9.16"
  },
  "toc-autonumbering": true,
  "vscode": {
   "interpreter": {
    "hash": "47ef90cdf3004d3f859f1fb202523c65c07ba7c22eefd261b181f4744e2d0403"
   }
  }
 },
 "nbformat": 4,
 "nbformat_minor": 4
}
